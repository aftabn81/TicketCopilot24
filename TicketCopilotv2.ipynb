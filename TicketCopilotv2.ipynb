{
  "cells": [
    {
      "cell_type": "markdown",
      "metadata": {
        "id": "view-in-github",
        "colab_type": "text"
      },
      "source": [
        "<a href=\"https://colab.research.google.com/github/aftabn81/TicketCopilot24/blob/main/TicketCopilotv2.ipynb\" target=\"_parent\"><img src=\"https://colab.research.google.com/assets/colab-badge.svg\" alt=\"Open In Colab\"/></a>"
      ]
    },
    {
      "cell_type": "markdown",
      "source": [
        "##Getting Dependencies"
      ],
      "metadata": {
        "id": "M8RKMwRQ3v6w"
      }
    },
    {
      "cell_type": "code",
      "source": [
        "!pip install --upgrade --quiet  langchain-googledrive PyPDF2\n"
      ],
      "metadata": {
        "colab": {
          "base_uri": "https://localhost:8080/"
        },
        "id": "_oIwxZsAfRRl",
        "outputId": "f3b5d560-6b2d-419f-b678-c921614ab9f0"
      },
      "execution_count": null,
      "outputs": [
        {
          "output_type": "stream",
          "name": "stdout",
          "text": [
            "\u001b[2K     \u001b[90m━━━━━━━━━━━━━━━━━━━━━━━━━━━━━━━━━━━━━━━━\u001b[0m \u001b[32m232.6/232.6 kB\u001b[0m \u001b[31m4.8 MB/s\u001b[0m eta \u001b[36m0:00:00\u001b[0m\n",
            "\u001b[2K     \u001b[90m━━━━━━━━━━━━━━━━━━━━━━━━━━━━━━━━━━━━━━━━\u001b[0m \u001b[32m12.4/12.4 MB\u001b[0m \u001b[31m35.1 MB/s\u001b[0m eta \u001b[36m0:00:00\u001b[0m\n",
            "\u001b[2K     \u001b[90m━━━━━━━━━━━━━━━━━━━━━━━━━━━━━━━━━━━━━━━━\u001b[0m \u001b[32m1.8/1.8 MB\u001b[0m \u001b[31m58.7 MB/s\u001b[0m eta \u001b[36m0:00:00\u001b[0m\n",
            "\u001b[2K     \u001b[90m━━━━━━━━━━━━━━━━━━━━━━━━━━━━━━━━━━━━━━━━\u001b[0m \u001b[32m273.0/273.0 kB\u001b[0m \u001b[31m25.3 MB/s\u001b[0m eta \u001b[36m0:00:00\u001b[0m\n",
            "\u001b[2K     \u001b[90m━━━━━━━━━━━━━━━━━━━━━━━━━━━━━━━━━━━━━━━━\u001b[0m \u001b[32m86.9/86.9 kB\u001b[0m \u001b[31m8.6 MB/s\u001b[0m eta \u001b[36m0:00:00\u001b[0m\n",
            "\u001b[2K     \u001b[90m━━━━━━━━━━━━━━━━━━━━━━━━━━━━━━━━━━━━━━━━\u001b[0m \u001b[32m53.0/53.0 kB\u001b[0m \u001b[31m1.8 MB/s\u001b[0m eta \u001b[36m0:00:00\u001b[0m\n",
            "\u001b[2K     \u001b[90m━━━━━━━━━━━━━━━━━━━━━━━━━━━━━━━━━━━━━━━━\u001b[0m \u001b[32m49.4/49.4 kB\u001b[0m \u001b[31m2.4 MB/s\u001b[0m eta \u001b[36m0:00:00\u001b[0m\n",
            "\u001b[2K     \u001b[90m━━━━━━━━━━━━━━━━━━━━━━━━━━━━━━━━━━━━━━━━\u001b[0m \u001b[32m144.8/144.8 kB\u001b[0m \u001b[31m2.7 MB/s\u001b[0m eta \u001b[36m0:00:00\u001b[0m\n",
            "\u001b[?25h"
          ]
        }
      ]
    },
    {
      "cell_type": "code",
      "source": [
        "!pip install openai langchain langchain_community langchain_openai faiss-cpu==1.7.4 langchainhub\n"
      ],
      "metadata": {
        "colab": {
          "base_uri": "https://localhost:8080/"
        },
        "id": "D6lNq3nvpnk7",
        "outputId": "1c381068-6c8a-4b6f-f914-8556d901385e"
      },
      "execution_count": null,
      "outputs": [
        {
          "output_type": "stream",
          "name": "stdout",
          "text": [
            "Collecting openai\n",
            "  Downloading openai-1.14.3-py3-none-any.whl (262 kB)\n",
            "\u001b[2K     \u001b[90m━━━━━━━━━━━━━━━━━━━━━━━━━━━━━━━━━━━━━━━━\u001b[0m \u001b[32m262.9/262.9 kB\u001b[0m \u001b[31m4.6 MB/s\u001b[0m eta \u001b[36m0:00:00\u001b[0m\n",
            "\u001b[?25hCollecting langchain\n",
            "  Downloading langchain-0.1.13-py3-none-any.whl (810 kB)\n",
            "\u001b[2K     \u001b[90m━━━━━━━━━━━━━━━━━━━━━━━━━━━━━━━━━━━━━━━━\u001b[0m \u001b[32m810.5/810.5 kB\u001b[0m \u001b[31m12.2 MB/s\u001b[0m eta \u001b[36m0:00:00\u001b[0m\n",
            "\u001b[?25hRequirement already satisfied: langchain_community in /usr/local/lib/python3.10/dist-packages (0.0.29)\n",
            "Collecting langchain_openai\n",
            "  Downloading langchain_openai-0.1.1-py3-none-any.whl (32 kB)\n",
            "Collecting faiss-cpu==1.7.4\n",
            "  Downloading faiss_cpu-1.7.4-cp310-cp310-manylinux_2_17_x86_64.manylinux2014_x86_64.whl (17.6 MB)\n",
            "\u001b[2K     \u001b[90m━━━━━━━━━━━━━━━━━━━━━━━━━━━━━━━━━━━━━━━━\u001b[0m \u001b[32m17.6/17.6 MB\u001b[0m \u001b[31m36.2 MB/s\u001b[0m eta \u001b[36m0:00:00\u001b[0m\n",
            "\u001b[?25hCollecting langchainhub\n",
            "  Downloading langchainhub-0.1.15-py3-none-any.whl (4.6 kB)\n",
            "Requirement already satisfied: anyio<5,>=3.5.0 in /usr/local/lib/python3.10/dist-packages (from openai) (3.7.1)\n",
            "Requirement already satisfied: distro<2,>=1.7.0 in /usr/lib/python3/dist-packages (from openai) (1.7.0)\n",
            "Collecting httpx<1,>=0.23.0 (from openai)\n",
            "  Downloading httpx-0.27.0-py3-none-any.whl (75 kB)\n",
            "\u001b[2K     \u001b[90m━━━━━━━━━━━━━━━━━━━━━━━━━━━━━━━━━━━━━━━━\u001b[0m \u001b[32m75.6/75.6 kB\u001b[0m \u001b[31m10.9 MB/s\u001b[0m eta \u001b[36m0:00:00\u001b[0m\n",
            "\u001b[?25hRequirement already satisfied: pydantic<3,>=1.9.0 in /usr/local/lib/python3.10/dist-packages (from openai) (2.6.4)\n",
            "Requirement already satisfied: sniffio in /usr/local/lib/python3.10/dist-packages (from openai) (1.3.1)\n",
            "Requirement already satisfied: tqdm>4 in /usr/local/lib/python3.10/dist-packages (from openai) (4.66.2)\n",
            "Requirement already satisfied: typing-extensions<5,>=4.7 in /usr/local/lib/python3.10/dist-packages (from openai) (4.10.0)\n",
            "Requirement already satisfied: PyYAML>=5.3 in /usr/local/lib/python3.10/dist-packages (from langchain) (6.0.1)\n",
            "Requirement already satisfied: SQLAlchemy<3,>=1.4 in /usr/local/lib/python3.10/dist-packages (from langchain) (2.0.29)\n",
            "Requirement already satisfied: aiohttp<4.0.0,>=3.8.3 in /usr/local/lib/python3.10/dist-packages (from langchain) (3.9.3)\n",
            "Requirement already satisfied: async-timeout<5.0.0,>=4.0.0 in /usr/local/lib/python3.10/dist-packages (from langchain) (4.0.3)\n",
            "Requirement already satisfied: dataclasses-json<0.7,>=0.5.7 in /usr/local/lib/python3.10/dist-packages (from langchain) (0.6.4)\n",
            "Requirement already satisfied: jsonpatch<2.0,>=1.33 in /usr/local/lib/python3.10/dist-packages (from langchain) (1.33)\n",
            "Requirement already satisfied: langchain-core<0.2.0,>=0.1.33 in /usr/local/lib/python3.10/dist-packages (from langchain) (0.1.35)\n",
            "Collecting langchain-text-splitters<0.1,>=0.0.1 (from langchain)\n",
            "  Downloading langchain_text_splitters-0.0.1-py3-none-any.whl (21 kB)\n",
            "Requirement already satisfied: langsmith<0.2.0,>=0.1.17 in /usr/local/lib/python3.10/dist-packages (from langchain) (0.1.36)\n",
            "Requirement already satisfied: numpy<2,>=1 in /usr/local/lib/python3.10/dist-packages (from langchain) (1.25.2)\n",
            "Requirement already satisfied: requests<3,>=2 in /usr/local/lib/python3.10/dist-packages (from langchain) (2.31.0)\n",
            "Requirement already satisfied: tenacity<9.0.0,>=8.1.0 in /usr/local/lib/python3.10/dist-packages (from langchain) (8.2.3)\n",
            "Collecting tiktoken<1,>=0.5.2 (from langchain_openai)\n",
            "  Downloading tiktoken-0.6.0-cp310-cp310-manylinux_2_17_x86_64.manylinux2014_x86_64.whl (1.8 MB)\n",
            "\u001b[2K     \u001b[90m━━━━━━━━━━━━━━━━━━━━━━━━━━━━━━━━━━━━━━━━\u001b[0m \u001b[32m1.8/1.8 MB\u001b[0m \u001b[31m62.2 MB/s\u001b[0m eta \u001b[36m0:00:00\u001b[0m\n",
            "\u001b[?25hCollecting types-requests<3.0.0.0,>=2.31.0.2 (from langchainhub)\n",
            "  Downloading types_requests-2.31.0.20240311-py3-none-any.whl (14 kB)\n",
            "Requirement already satisfied: aiosignal>=1.1.2 in /usr/local/lib/python3.10/dist-packages (from aiohttp<4.0.0,>=3.8.3->langchain) (1.3.1)\n",
            "Requirement already satisfied: attrs>=17.3.0 in /usr/local/lib/python3.10/dist-packages (from aiohttp<4.0.0,>=3.8.3->langchain) (23.2.0)\n",
            "Requirement already satisfied: frozenlist>=1.1.1 in /usr/local/lib/python3.10/dist-packages (from aiohttp<4.0.0,>=3.8.3->langchain) (1.4.1)\n",
            "Requirement already satisfied: multidict<7.0,>=4.5 in /usr/local/lib/python3.10/dist-packages (from aiohttp<4.0.0,>=3.8.3->langchain) (6.0.5)\n",
            "Requirement already satisfied: yarl<2.0,>=1.0 in /usr/local/lib/python3.10/dist-packages (from aiohttp<4.0.0,>=3.8.3->langchain) (1.9.4)\n",
            "Requirement already satisfied: idna>=2.8 in /usr/local/lib/python3.10/dist-packages (from anyio<5,>=3.5.0->openai) (3.6)\n",
            "Requirement already satisfied: exceptiongroup in /usr/local/lib/python3.10/dist-packages (from anyio<5,>=3.5.0->openai) (1.2.0)\n",
            "Requirement already satisfied: marshmallow<4.0.0,>=3.18.0 in /usr/local/lib/python3.10/dist-packages (from dataclasses-json<0.7,>=0.5.7->langchain) (3.21.1)\n",
            "Requirement already satisfied: typing-inspect<1,>=0.4.0 in /usr/local/lib/python3.10/dist-packages (from dataclasses-json<0.7,>=0.5.7->langchain) (0.9.0)\n",
            "Requirement already satisfied: certifi in /usr/local/lib/python3.10/dist-packages (from httpx<1,>=0.23.0->openai) (2024.2.2)\n",
            "Collecting httpcore==1.* (from httpx<1,>=0.23.0->openai)\n",
            "  Downloading httpcore-1.0.5-py3-none-any.whl (77 kB)\n",
            "\u001b[2K     \u001b[90m━━━━━━━━━━━━━━━━━━━━━━━━━━━━━━━━━━━━━━━━\u001b[0m \u001b[32m77.9/77.9 kB\u001b[0m \u001b[31m10.7 MB/s\u001b[0m eta \u001b[36m0:00:00\u001b[0m\n",
            "\u001b[?25hCollecting h11<0.15,>=0.13 (from httpcore==1.*->httpx<1,>=0.23.0->openai)\n",
            "  Downloading h11-0.14.0-py3-none-any.whl (58 kB)\n",
            "\u001b[2K     \u001b[90m━━━━━━━━━━━━━━━━━━━━━━━━━━━━━━━━━━━━━━━━\u001b[0m \u001b[32m58.3/58.3 kB\u001b[0m \u001b[31m8.0 MB/s\u001b[0m eta \u001b[36m0:00:00\u001b[0m\n",
            "\u001b[?25hRequirement already satisfied: jsonpointer>=1.9 in /usr/local/lib/python3.10/dist-packages (from jsonpatch<2.0,>=1.33->langchain) (2.4)\n",
            "Requirement already satisfied: packaging<24.0,>=23.2 in /usr/local/lib/python3.10/dist-packages (from langchain-core<0.2.0,>=0.1.33->langchain) (23.2)\n",
            "Requirement already satisfied: orjson<4.0.0,>=3.9.14 in /usr/local/lib/python3.10/dist-packages (from langsmith<0.2.0,>=0.1.17->langchain) (3.10.0)\n",
            "Requirement already satisfied: annotated-types>=0.4.0 in /usr/local/lib/python3.10/dist-packages (from pydantic<3,>=1.9.0->openai) (0.6.0)\n",
            "Requirement already satisfied: pydantic-core==2.16.3 in /usr/local/lib/python3.10/dist-packages (from pydantic<3,>=1.9.0->openai) (2.16.3)\n",
            "Requirement already satisfied: charset-normalizer<4,>=2 in /usr/local/lib/python3.10/dist-packages (from requests<3,>=2->langchain) (3.3.2)\n",
            "Requirement already satisfied: urllib3<3,>=1.21.1 in /usr/local/lib/python3.10/dist-packages (from requests<3,>=2->langchain) (2.0.7)\n",
            "Requirement already satisfied: greenlet!=0.4.17 in /usr/local/lib/python3.10/dist-packages (from SQLAlchemy<3,>=1.4->langchain) (3.0.3)\n",
            "Requirement already satisfied: regex>=2022.1.18 in /usr/local/lib/python3.10/dist-packages (from tiktoken<1,>=0.5.2->langchain_openai) (2023.12.25)\n",
            "Requirement already satisfied: mypy-extensions>=0.3.0 in /usr/local/lib/python3.10/dist-packages (from typing-inspect<1,>=0.4.0->dataclasses-json<0.7,>=0.5.7->langchain) (1.0.0)\n",
            "Installing collected packages: faiss-cpu, types-requests, h11, tiktoken, langchainhub, httpcore, httpx, openai, langchain-text-splitters, langchain_openai, langchain\n",
            "Successfully installed faiss-cpu-1.7.4 h11-0.14.0 httpcore-1.0.5 httpx-0.27.0 langchain-0.1.13 langchain-text-splitters-0.0.1 langchain_openai-0.1.1 langchainhub-0.1.15 openai-1.14.3 tiktoken-0.6.0 types-requests-2.31.0.20240311\n"
          ]
        }
      ]
    },
    {
      "cell_type": "code",
      "source": [
        "!pip install -qU pymupdf pypdf tiktoken langchain_openai"
      ],
      "metadata": {
        "id": "beFzJEFyj5JA",
        "colab": {
          "base_uri": "https://localhost:8080/"
        },
        "outputId": "39c7eb76-0cb8-4b3e-aa4d-e7c57c36b381"
      },
      "execution_count": null,
      "outputs": [
        {
          "output_type": "stream",
          "name": "stdout",
          "text": [
            "\u001b[2K     \u001b[90m━━━━━━━━━━━━━━━━━━━━━━━━━━━━━━━━━━━━━━━━\u001b[0m \u001b[32m3.9/3.9 MB\u001b[0m \u001b[31m19.2 MB/s\u001b[0m eta \u001b[36m0:00:00\u001b[0m\n",
            "\u001b[2K     \u001b[90m━━━━━━━━━━━━━━━━━━━━━━━━━━━━━━━━━━━━━━━━\u001b[0m \u001b[32m286.1/286.1 kB\u001b[0m \u001b[31m25.5 MB/s\u001b[0m eta \u001b[36m0:00:00\u001b[0m\n",
            "\u001b[2K     \u001b[90m━━━━━━━━━━━━━━━━━━━━━━━━━━━━━━━━━━━━━━━━\u001b[0m \u001b[32m30.8/30.8 MB\u001b[0m \u001b[31m47.3 MB/s\u001b[0m eta \u001b[36m0:00:00\u001b[0m\n",
            "\u001b[?25h"
          ]
        }
      ]
    },
    {
      "cell_type": "code",
      "execution_count": null,
      "metadata": {
        "id": "41KmZG6fo6Td"
      },
      "outputs": [],
      "source": [
        "#import Libraries\n",
        "\n",
        "import openai\n",
        "import langchain\n",
        "from langchain.document_loaders import PyPDFDirectoryLoader\n",
        "from langchain.text_splitter import CharacterTextSplitter\n",
        "from langchain.text_splitter import RecursiveCharacterTextSplitter\n",
        "from langchain.embeddings.openai import OpenAIEmbeddings\n",
        "from langchain_community.embeddings.openai import OpenAIEmbeddings\n",
        "from langchain.llms import OpenAI\n",
        "from langchain.chains.question_answering import load_qa_chain\n",
        "from PyPDF2 import PdfReader\n",
        "# Importing the json module\n",
        "import json\n",
        "#import pandas to read dataframe\n",
        "import pandas as pd\n",
        "#import data visualization libraries\n",
        "import matplotlib.pyplot as plt\n",
        "import seaborn as sns"
      ]
    },
    {
      "cell_type": "code",
      "execution_count": null,
      "metadata": {
        "id": "zoK8nsF-o6Td"
      },
      "outputs": [],
      "source": [
        "import os\n",
        "import getpass"
      ]
    },
    {
      "cell_type": "code",
      "execution_count": null,
      "metadata": {
        "colab": {
          "base_uri": "https://localhost:8080/"
        },
        "id": "Jp9QIBI8o6Te",
        "outputId": "c2c7df66-b2e7-460d-c1fc-49778ca3e081"
      },
      "outputs": [
        {
          "name": "stdout",
          "output_type": "stream",
          "text": [
            "OpenAI API Key:··········\n"
          ]
        }
      ],
      "source": [
        "openaikey = getpass.getpass(\"OpenAI API Key:\")"
      ]
    },
    {
      "cell_type": "code",
      "source": [
        "!git clone https://github.com/aftabn81/TicketCopilot.git"
      ],
      "metadata": {
        "colab": {
          "base_uri": "https://localhost:8080/"
        },
        "id": "_SxgDxUeo9_Y",
        "outputId": "84aa2939-bb45-46f0-d8be-fccdcc665975"
      },
      "execution_count": null,
      "outputs": [
        {
          "output_type": "stream",
          "name": "stdout",
          "text": [
            "Cloning into 'TicketCopilot'...\n",
            "remote: Enumerating objects: 6, done.\u001b[K\n",
            "remote: Counting objects: 100% (6/6), done.\u001b[K\n",
            "remote: Compressing objects: 100% (4/4), done.\u001b[K\n",
            "remote: Total 6 (delta 0), reused 0 (delta 0), pack-reused 0\u001b[K\n",
            "Receiving objects: 100% (6/6), 190.24 KiB | 1.42 MiB/s, done.\n"
          ]
        }
      ]
    },
    {
      "cell_type": "code",
      "source": [
        "from langchain_community.document_loaders import PyMuPDFLoader\n",
        "\n",
        "loader = PyMuPDFLoader(\n",
        "    'TicketCopilot/Ticket_Master_Training_v2.pdf'\n",
        ")\n",
        "\n",
        "documents = loader.load()"
      ],
      "metadata": {
        "id": "fV3JsLcJW2pN"
      },
      "execution_count": null,
      "outputs": []
    },
    {
      "cell_type": "code",
      "source": [
        "documents"
      ],
      "metadata": {
        "colab": {
          "base_uri": "https://localhost:8080/"
        },
        "id": "2QCi6V8oXphY",
        "outputId": "dd168edd-9ba4-4511-963b-152289f1dc23"
      },
      "execution_count": null,
      "outputs": [
        {
          "output_type": "execute_result",
          "data": {
            "text/plain": [
              "[Document(page_content='1 | P a g e  \\nAUTOMATED IT SUPPORT TICKET HANDLING WITH AI: A GUIDE \\nIntroduction to TechAssist Solutions \\nWelcome to TechAssist Solutions, a pioneer in leveraging cutting-edge artificial intelligence to \\nrevolutionize IT support services. Our company prides itself on deploying advanced language processing \\nmodels to streamline ticket resolution processes, enhance efficiency, and elevate customer satisfaction. \\nAt the heart of our service portfolio is our AI-driven support system, designed to interpret, classify, and \\nrespond to IT support tickets with unmatched precision and speed. \\nThe Task: Optimizing IT Support with AI \\nTechAssist Solutions embarks on a mission to automate the handling of IT support tickets, transforming \\na traditionally human-centric operation into a seamless AI-powered workflow. Our goal is simple yet \\nambitious: to reduce response times, eliminate bottlenecks, and provide consistently high-quality \\nsupport to our diverse clientele. \\nThe Process \\nUtilizing a sophisticated Language Model (LLM), our system is trained to parse through the complex, \\nnuanced language of support requests. It identifies the nature of each issue, assigns priority, generates \\nappropriate tags, calculates resolution times, and crafts thoughtful responses. This AI-driven method \\nisn’t just about efficiency; it\\'s about enhancing the human touch with technology, ensuring that each \\nclient feels heard and supported. \\nCustomer Personas and Customization \\nTechAssist Solutions recognizes the diverse landscape of its users and understands that behind every \\nticket is an individual with unique needs. Our AI is calibrated to serve an array of customer personas: \\nThe Remote Worker, Jane: Frequently encounters network issues. She expects swift and clear \\ncommunication to avoid work disruption. Our AI prioritizes such tickets highly due to their immediate \\nimpact on productivity. \\nThe Executive, Arjun: Reports critical security concerns. The system flags these tickets for urgent action, \\nconsidering the potential organizational implications. \\nThe Marketer, Li: Needs user assistance with CRM software. These requests are classified for user help \\nand are handled with informative and instructive responses. \\nThe Developer, Miguel: Submits detailed error reports. These tickets are rich with information that the \\nLLM uses to provide targeted technical solutions. \\nSystem Functionality in Action \\nWhen Jane\\'s ticket arrives, stating, \"Experiencing VPN connectivity issues since this morning - need to \\naccess network drives ASAP!\", the LLM swiftly categorizes it under Network Issues, assigns a high \\npriority, and tags it as ‘VPN-Problems’. An ETA is calculated considering the current load and the urgency \\nof the situation, and a response is drafted assuring Jane of an expedited resolution. \\n', metadata={'source': 'TicketCopilot/Ticket_Master_Training_v2.pdf', 'file_path': 'TicketCopilot/Ticket_Master_Training_v2.pdf', 'page': 0, 'total_pages': 9, 'format': 'PDF 1.7', 'title': '', 'author': 'Aftab, Noor', 'subject': '', 'keywords': '', 'creator': 'Microsoft® Word LTSC', 'producer': 'Microsoft® Word LTSC', 'creationDate': \"D:20240325191408-07'00'\", 'modDate': \"D:20240325191408-07'00'\", 'trapped': ''}),\n",
              " Document(page_content='2 | P a g e  \\nSimilarly, when Arjun reports a \"Suspected breach in the finance department\\'s data\", the system \\nimmediately categorizes this as a Security Concern, assigns the highest priority, and initiates a protocol \\nfor immediate action, reflecting the seriousness of the potential threat. \\nTask Overview and Workflow \\nTechAssist Solutions employs LLMs to automate the process of IT support ticket handling. The task flow \\nis as follows: \\nStep Action \\nDescription \\n1 \\nTicket Receipt \\nThe system receives a support ticket submitted by the user. \\n2 \\nText Scanning \\nThe LLM scans the ticket text for indicative keywords and \\nphrases. \\n3 \\nKeyword Contextualization \\nIt contextualizes keywords to accurately categorize the ticket. \\n4 \\nCategory Assignment \\nThe ticket is categorized into Hardware, Software, Network, etc. \\n5 \\nUrgency Assessment \\nThe system assesses urgency based on specific language cues. \\n6 \\nImpact Evaluation \\nIt evaluates the impact level on individuals or groups. \\n7 \\nPriority Level Assignment \\nA priority level is assigned combining urgency and impact. \\n8 \\nETA Calculation \\nAn estimated time of resolution is calculated based on priority. \\n9 \\nResponse Drafting \\nA tailored response is drafted and sent to the user. \\n10 \\nHuman Review \\nAmbiguous cases are flagged for human intervention. \\n11 \\nFollow-Up \\nThe system or support team follows up post-resolution. \\nClassification Protocol for IT Support Tickets \\nAs a reliable customer support engineer, tasked to classify IT support tickets, adhere strictly to the \\nfollowing protocol. Each ticket must be assigned to exactly one of five specified categories. Utilize \\ntechnical acumen to analyze the content rigorously, referring to a broad compendium of IT scenarios \\nand solutions informed by A+ Certification, CCNA, and MCSE knowledge bases. \\nCategories: \\n1. Hardware Issues: Classify any of the following ticket problems as Hardware issues.  \\n• \\nDevice Failure: Failures in CPUs, GPUs, power supplies, fans, and other critical components. \\nCheck for thermal events and power irregularities. \\n• \\nPeripheral Malfunctions: Issues with keyboards, mice, monitors, webcams, and external drives. \\nIncludes connection failures and device incompatibilities. \\n', metadata={'source': 'TicketCopilot/Ticket_Master_Training_v2.pdf', 'file_path': 'TicketCopilot/Ticket_Master_Training_v2.pdf', 'page': 1, 'total_pages': 9, 'format': 'PDF 1.7', 'title': '', 'author': 'Aftab, Noor', 'subject': '', 'keywords': '', 'creator': 'Microsoft® Word LTSC', 'producer': 'Microsoft® Word LTSC', 'creationDate': \"D:20240325191408-07'00'\", 'modDate': \"D:20240325191408-07'00'\", 'trapped': ''}),\n",
              " Document(page_content='3 | P a g e  \\n• \\nStorage Devices: Hard drive crashes, SSD failures, RAID array degradation, and unrecognized \\nstorage devices. Monitor S.M.A.R.T. statuses and RAID health. \\n• \\nMobile Devices: Battery drainage in smartphones, tablet screen responsiveness issues, and \\nmobile connectivity problems like failing Wi-Fi chips. \\n• \\nRouters & Switches: Unresponsive networking hardware, firmware bugs, or hardware failures \\nleading to network outages. \\n• \\nCabling Issues: Faulty or degraded Ethernet cables, incorrect cabling leading to duplex \\nmismatches or speed negotiation issues. \\n• \\nWireless Access Points: Connectivity issues, signal interference, or hardware malfunctions \\naffecting wireless network coverage. \\n• \\nDiagnostic Codes: Utilize POST diagnostic codes and beeper codes for motherboard \\ntroubleshooting. Reference vendor-specific documentation for interpretation. \\n \\n2. Software Issues: Classify any of the following ticket problems as Software issues. \\n• \\nBoot Problems: Issues preventing OS from loading, including corrupted system files and boot \\nloader issues. \\n• \\nUpdates & Patches: Failures or bugs introduced by OS updates. Rollback strategies and update \\ntroubleshooting steps. \\n• \\nDriver Conflicts: Incompatible or outdated drivers causing system instability or device \\nmalfunctions. \\n• \\nCrashes & Bugs: Applications not responding, crashing, or displaying error messages. Include \\nlogs where possible. \\n• \\nInstallation Issues: Problems installing or updating applications, including permission issues and \\ninsufficient storage. \\n• \\nLicensing & Activation: Troubleshoot licensing errors, software activation issues, and \\nsubscription problems. \\n \\n3. Technical Issues: Classify any of the following ticket problems as technical issues. \\n \\n• \\nDNS & IP Conflicts: DNS resolution failures, IP address conflicts within the network, and DHCP \\nissues. \\n• \\nBandwidth & Throughput: Analyze network performance issues, including bandwidth \\nbottlenecks and latency problems. \\n• \\nVPN & Remote Access: Troubleshoot VPN connection failures, configuration errors, or \\nperformance issues with remote access software. \\n', metadata={'source': 'TicketCopilot/Ticket_Master_Training_v2.pdf', 'file_path': 'TicketCopilot/Ticket_Master_Training_v2.pdf', 'page': 2, 'total_pages': 9, 'format': 'PDF 1.7', 'title': '', 'author': 'Aftab, Noor', 'subject': '', 'keywords': '', 'creator': 'Microsoft® Word LTSC', 'producer': 'Microsoft® Word LTSC', 'creationDate': \"D:20240325191408-07'00'\", 'modDate': \"D:20240325191408-07'00'\", 'trapped': ''}),\n",
              " Document(page_content='4 | P a g e  \\n• \\nPerformance Tuning: Steps for optimizing system performance, including system settings, \\nresource allocation, and prioritizing processes. \\n• \\nSecurity Configurations: Firewall setups, antivirus software issues, and security policy \\nconfigurations. \\n \\n4. Data Recovery: Classify any of the following ticket problems as data recovery issues. \\n• \\nData Loss Scenarios: Accidental deletion, formatting, or corruption of data on HDDs, SSDs, USB \\ndrives, and memory cards. \\n• \\nCloud & Network Storage: Recovery of data lost in cloud storage solutions or network-attached \\nstorage devices. \\n• \\nSoftware Tools: Utilize file recovery software. Detail the use of shadow copies and file history \\nwhere applicable. \\n• \\nProfessional Recovery Services: When to recommend specialized data recovery services for \\nsevere physical damage cases. \\n• \\nMobile Devices: Address data recovery for smartphones, including internal storage and cloud \\nbackups. \\n• \\nSecurity Concerns: Handle sensitive data recovery with an emphasis on privacy and data \\nprotection laws. \\n \\n5. Other Issues: Classify any of the following ticket problems as other issues. \\n• \\nUnusual Requests: Handling unique scenarios such as lost banking PINs or access codes, \\nrequiring a security-focused approach and liaising with the appropriate financial institutions or \\nsecurity teams. \\n• \\nEmerging Technology: Address issues in emerging tech areas like IoT devices, smart home \\nsystems, and wearables, considering both hardware and software troubleshooting approaches. \\n• \\nIf there is something that you do not understand or cannot properly classify and need human \\nor operator intervention, classify it as OTHER ISSSUES. \\n \\n \\n \\n \\n \\n \\n \\n', metadata={'source': 'TicketCopilot/Ticket_Master_Training_v2.pdf', 'file_path': 'TicketCopilot/Ticket_Master_Training_v2.pdf', 'page': 3, 'total_pages': 9, 'format': 'PDF 1.7', 'title': '', 'author': 'Aftab, Noor', 'subject': '', 'keywords': '', 'creator': 'Microsoft® Word LTSC', 'producer': 'Microsoft® Word LTSC', 'creationDate': \"D:20240325191408-07'00'\", 'modDate': \"D:20240325191408-07'00'\", 'trapped': ''}),\n",
              " Document(page_content=\"5 | P a g e  \\nDetermining Ticket Priority with Precision \\nAssigning the correct priority is about more than just scanning for urgent-sounding words; it’s about \\nunderstanding the gravity of the situation and the breadth of its impact. The customer service engineer \\nevaluates each ticket on a spectrum of urgency and impact, applying a weighted consideration to terms \\nand phrases that indicate time sensitivity and the scale of the disruption. \\nIn doing so, we take into account not just the explicit expressions of urgency but also implicit signals. A \\nticket stating “End-of-quarter sales reports can’t be generated” is treated with high priority, as it implies \\na time-sensitive task with potentially broad repercussions. \\nThe priority levels serve as guideposts for resource allocation, with each level clearly defined: \\nPriority 1 (Low): The issue is more of an inconvenience than a blockage, with no immediate time \\nconstraint or significant impact on operations. \\nPriority 2 (Moderate): The user's workflow is impeded but not completely stopped, or it affects a non-\\nessential aspect of their work. \\nPriority 3 (High): Core job functions are disrupted, impacting the user's productivity directly, with no \\nimmediate workaround available. \\nPriority 4 (Critical): The issue is preventing a team from functioning efficiently, perhaps stopping a \\ncollaborative task, with wider implications if left unresolved. \\nPriority 5 (Urgent): A high-impact problem that affects multiple users or entire systems, with potential \\nsignificant consequences for business continuity and requiring immediate attention. \\nIn practical terms, the ticket from the executive experiencing a security breach would be assigned \\nPriority 5, due to the severe implications of such an issue. Conversely, a ticket about a malfunctioning \\nmouse would typically be Priority 1, as it's a relatively minor issue with straightforward fixes and low \\nimpact on overall productivity. \\nBy meticulously analyzing the language of each ticket, the customer service engineer can prioritize \\ntickets effectively, ensuring that the support team's response is appropriately calibrated to the severity \\nand urgency of each issue. This not only improves the efficiency of the support process but also \\nenhances customer satisfaction by addressing the most critical issues promptly. \\nThis nuanced approach to ticket classification and priority determination represents TechAssist \\nSolutions' commitment to delivering top-tier IT support that is as responsive and effective as it is \\ntechnologically advanced. Through this process, our customer service engineer ensures that every ticket \\nis an opportunity to showcase our expertise and dedication to our customers. \\n \\n3. Tags and Metadata Generation  \\nIn the domain of IT support, the generation of tags and metadata is not merely about organization — it's \\nabout creating a language through which a complex system can communicate clearly and categorize \\nefficiently. TechAssist Solutions employs its LLM to perform this task with precision, dissecting the \\nlanguage of support tickets to identify critical elements that will serve as tags. \\n\", metadata={'source': 'TicketCopilot/Ticket_Master_Training_v2.pdf', 'file_path': 'TicketCopilot/Ticket_Master_Training_v2.pdf', 'page': 4, 'total_pages': 9, 'format': 'PDF 1.7', 'title': '', 'author': 'Aftab, Noor', 'subject': '', 'keywords': '', 'creator': 'Microsoft® Word LTSC', 'producer': 'Microsoft® Word LTSC', 'creationDate': \"D:20240325191408-07'00'\", 'modDate': \"D:20240325191408-07'00'\", 'trapped': ''}),\n",
              " Document(page_content='6 | P a g e  \\nThe process begins with  extraction of system names, error codes, and other pertinent technical terms \\nthat are fundamental to understanding the ticket. This step involves a nuanced analysis of technical \\njargon and acronyms that are second nature to IT professionals but may be cryptic to others. For \\nexample, an error code like \"404\" is universally recognized within IT as a missing page, but to the \\nuninitiated, it\\'s just a number. The LLM is trained to recognize such codes and translate them into \\nmeaningful tags that can be utilized across the support system. \\nOnce the essential elements are extracted, the customer service engineer assign tags that encapsulate \\nthe essence of the issue. Tags such as \"password-reset\", \"server-downtime\", or \"software-upgrade-\\nrequired\" are not just descriptors; they\\'re signposts that guide the ticket to the correct resolution \\npathway. They enable the support staff to quickly gauge the nature of the issue without delving into the \\nfull text of the ticket, much like a subject line in an email provides a summary of the content. \\nThe tags serve a dual purpose — they also act as metadata that enriches the ticket within the broader \\ndatabase. This metadata is crucial for sorting tickets, identifying patterns over time, and even predicting \\nfuture ticket trends. For instance, a surge in \"network-outage\" tags could signal an underlying systemic \\nissue that needs addressing at a higher level. \\nMoreover, the customer service engineer uses tags to prioritize tickets, recognizing that certain tags, like \\n\"data-breach\" or \"complete-outage\", carry an intrinsic urgency that may necessitate immediate action. \\nBy synthesizing the extracted information into actionable tags, the customer service engineer elevates \\nthe entire support process from a reactive model to one that\\'s proactive and informed. \\n \\n \\n \\n \\n \\n \\n \\n \\n \\n \\n \\n \\n \\n \\n \\n \\n', metadata={'source': 'TicketCopilot/Ticket_Master_Training_v2.pdf', 'file_path': 'TicketCopilot/Ticket_Master_Training_v2.pdf', 'page': 5, 'total_pages': 9, 'format': 'PDF 1.7', 'title': '', 'author': 'Aftab, Noor', 'subject': '', 'keywords': '', 'creator': 'Microsoft® Word LTSC', 'producer': 'Microsoft® Word LTSC', 'creationDate': \"D:20240325191408-07'00'\", 'modDate': \"D:20240325191408-07'00'\", 'trapped': ''}),\n",
              " Document(page_content=\"7 | P a g e  \\n \\n4. Estimating Resolution Time (ETA)  \\nEstimating the Resolution Time (ETA) is a critical component of the IT support service. At TechAssist \\nSolutions, our customer service engineer uses a sophisticated, time-based algorithm to assign ETAs that \\nreflect the priority level of the ticket, while also adapting to the dynamic landscape of the support queue \\nand resource availability. The categorization of ETA is as nuanced as the issues themselves, ranging from \\n'Immediate' to 'Scheduled'. \\nETA Categories: \\nImmediate (Within Hours): This category is reserved for Priority 5 tickets that signify a critical issue \\naffecting major system functions or security. These are treated with the utmost urgency and require \\nmobilization of resources for swift resolution. \\nExpedited (Within 1 Business Day): For tickets with Priority 4, the system assigns an expedited ETA, \\nindicating that a significant business function is impacted and demands quick action, though it may not \\nbe a company-wide emergency. \\nHigh (Within 3 Business Days): Priority 3 tickets, which prevent individual users from performing their \\njobs but do not have a wider impact, are given a high ETA. These are issues that need timely resolution \\nto restore individual productivity. \\nModerate (Within a Week): Tickets classified with Priority 2 involve inconveniences that may slow down \\nbut not halt the user's work. These are scheduled for resolution within a typical workweek. \\nLow (Flexible): For Priority 1 issues that are non-urgent, such as minor queries or enhancement \\nrequests, the system assigns a flexible ETA that allows for resolution in the regular flow of ticket \\nhandling. \\nThe initial ETA is generated considering the current load — the number of tickets in the queue and their \\nrespective priorities. This estimate provides a framework but is not static; the LLM constantly adjusts \\nETAs in real-time based on a number of factors including the resolution of other tickets, changes in \\npriority, and the availability of technical staff. \\nWhen a high-priority ticket is resolved quicker than anticipated, the LLM recalculates the ETAs for other \\ntickets, potentially moving up the schedule for lower priority issues. Conversely, if a Priority 5 ticket \\ncomes in, the customer service engineer may adjust ETAs for less urgent issues to allocate resources \\nwhere they're needed most. \\nBy managing ETAs in this fluid manner, TechAssist Solutions ensures that each customer receives a \\nrealistic timeframe for resolution, balancing the urgency of their issue with the operational capabilities \\nof the support team. This approach not only sets clear expectations for customers but also allows the \\nsupport team to manage their workload effectively, leading to increased efficiency and customer \\nsatisfaction. \\n \\n \\n \\n\", metadata={'source': 'TicketCopilot/Ticket_Master_Training_v2.pdf', 'file_path': 'TicketCopilot/Ticket_Master_Training_v2.pdf', 'page': 6, 'total_pages': 9, 'format': 'PDF 1.7', 'title': '', 'author': 'Aftab, Noor', 'subject': '', 'keywords': '', 'creator': 'Microsoft® Word LTSC', 'producer': 'Microsoft® Word LTSC', 'creationDate': \"D:20240325191408-07'00'\", 'modDate': \"D:20240325191408-07'00'\", 'trapped': ''}),\n",
              " Document(page_content='8 | P a g e  \\nDrafting Responses  \\nDrafting responses is an art form where empathy meets efficiency. At TechAssist Solutions, our LLM has \\nbeen refined to craft responses that resonate with the customer’s experience while providing clear and \\nconcise information. Our AI understands that the response is not just an answer, but a reassurance to \\nthe customer that their issue is understood and being addressed with the care it deserves. \\nWhen generating responses, the customer service engineer employs a library of carefully designed \\ntemplates, which serve as the foundation for its replies. These templates are structured to be adapted \\nto the details of each ticket and the assigned priority level, ensuring relevance and personalization. Each \\nresponse template is imbued with a tone appropriate for the urgency of the issue and is devised to \\nconvey the next steps, including an accurate ETA. \\nThe templates fall into several categories, each corresponding to the priority level of the ticket: \\n1. Immediate Priority Response (Priority 5): \\n\"Dear [Customer Name], \\nWe recognize the critical nature of your issue and understand the urgency. Please be assured that our \\nbest resources are being deployed to address [specific issue] immediately. We are committed to \\nresolving this as a matter of the highest priority and will keep you updated every step of the way. Your \\noperations are vital to us, and we expect to have this resolved by [ETA]. Thank you for your patience.\" \\n2. Expedited Priority Response (Priority 4): \\n\"Hello [Customer Name], \\nWe have received your ticket regarding [specific issue], and it has been flagged as a high-priority item. \\nOur team is actively working on a solution, and we aim to have this resolved within [ETA]. We appreciate \\nyour understanding and are here to support you through this inconvenience.\" \\n3. High Priority Response (Priority 3): \\n\"Hi [Customer Name], \\nThank you for bringing [specific issue] to our attention. This is important to us, and we are addressing it \\nwith a high priority. We expect to have an update for you by [ETA]. Your workflow is essential, and we \\nare working diligently to minimize any disruption.\" \\n4. Moderate Priority Response (Priority 2): \\n\"Hi [Customer Name], \\nYour ticket regarding [specific issue] has been logged, and we will be addressing it in the order it was \\nreceived. We understand this may be impacting your work and estimate a resolution time within [ETA]. \\nWe thank you for your patience and will reach out with any updates.\" \\n \\n \\n \\n', metadata={'source': 'TicketCopilot/Ticket_Master_Training_v2.pdf', 'file_path': 'TicketCopilot/Ticket_Master_Training_v2.pdf', 'page': 7, 'total_pages': 9, 'format': 'PDF 1.7', 'title': '', 'author': 'Aftab, Noor', 'subject': '', 'keywords': '', 'creator': 'Microsoft® Word LTSC', 'producer': 'Microsoft® Word LTSC', 'creationDate': \"D:20240325191408-07'00'\", 'modDate': \"D:20240325191408-07'00'\", 'trapped': ''}),\n",
              " Document(page_content='9 | P a g e  \\n5. Low Priority Response (Priority 1): \\n\"Hello [Customer Name], \\nThank you for contacting us about [specific issue]. While this is currently queued as a low priority item, \\nwe assure you that it will receive the attention it deserves. We are currently estimating a resolution by \\n[ETA], and we will inform you of any changes. We appreciate your understanding.\" \\nBy utilizing these templates, the LLM ensures that each customer interaction is handled with the same \\nhigh standards of clarity, courtesy, and empathy that are the hallmark of TechAssist Solutions. It’s not \\njust about resolving issues; it’s about sustaining a supportive and reassuring communication channel \\nwith our clients. \\n \\n', metadata={'source': 'TicketCopilot/Ticket_Master_Training_v2.pdf', 'file_path': 'TicketCopilot/Ticket_Master_Training_v2.pdf', 'page': 8, 'total_pages': 9, 'format': 'PDF 1.7', 'title': '', 'author': 'Aftab, Noor', 'subject': '', 'keywords': '', 'creator': 'Microsoft® Word LTSC', 'producer': 'Microsoft® Word LTSC', 'creationDate': \"D:20240325191408-07'00'\", 'modDate': \"D:20240325191408-07'00'\", 'trapped': ''})]"
            ]
          },
          "metadata": {},
          "execution_count": 12
        }
      ]
    },
    {
      "cell_type": "code",
      "source": [
        "documents[0].metadata"
      ],
      "metadata": {
        "colab": {
          "base_uri": "https://localhost:8080/"
        },
        "id": "HwGr3sW0gR-U",
        "outputId": "b1da4b17-bd5c-4bbf-c670-fe437f043afb"
      },
      "execution_count": 18,
      "outputs": [
        {
          "output_type": "execute_result",
          "data": {
            "text/plain": [
              "{'source': 'TicketCopilot/Ticket_Master_Training_v2.pdf',\n",
              " 'file_path': 'TicketCopilot/Ticket_Master_Training_v2.pdf',\n",
              " 'page': 0,\n",
              " 'total_pages': 9,\n",
              " 'format': 'PDF 1.7',\n",
              " 'title': '',\n",
              " 'author': 'Aftab, Noor',\n",
              " 'subject': '',\n",
              " 'keywords': '',\n",
              " 'creator': 'Microsoft® Word LTSC',\n",
              " 'producer': 'Microsoft® Word LTSC',\n",
              " 'creationDate': \"D:20240325191408-07'00'\",\n",
              " 'modDate': \"D:20240325191408-07'00'\",\n",
              " 'trapped': ''}"
            ]
          },
          "metadata": {},
          "execution_count": 18
        }
      ]
    },
    {
      "cell_type": "code",
      "source": [
        "len(documents)"
      ],
      "metadata": {
        "colab": {
          "base_uri": "https://localhost:8080/"
        },
        "id": "_SxBPj4ZpYsB",
        "outputId": "80a0c5af-d234-4f49-ac99-6f54afabb0c5"
      },
      "execution_count": null,
      "outputs": [
        {
          "output_type": "execute_result",
          "data": {
            "text/plain": [
              "9"
            ]
          },
          "metadata": {},
          "execution_count": 14
        }
      ]
    },
    {
      "cell_type": "code",
      "source": [
        "from langchain.text_splitter import RecursiveCharacterTextSplitter\n",
        "\n",
        "text_splitter = RecursiveCharacterTextSplitter(\n",
        "    chunk_size = 700,\n",
        "    chunk_overlap = 50\n",
        ")\n",
        "\n",
        "documents = text_splitter.split_documents(documents)"
      ],
      "metadata": {
        "id": "NTAPHyVrjQlF"
      },
      "execution_count": null,
      "outputs": []
    },
    {
      "cell_type": "code",
      "source": [
        "len(documents)"
      ],
      "metadata": {
        "colab": {
          "base_uri": "https://localhost:8080/"
        },
        "id": "3kQFShT_CW-p",
        "outputId": "a239f4dc-3786-4e64-c5b0-85419fbc6af1"
      },
      "execution_count": null,
      "outputs": [
        {
          "output_type": "execute_result",
          "data": {
            "text/plain": [
              "35"
            ]
          },
          "metadata": {},
          "execution_count": 16
        }
      ]
    },
    {
      "cell_type": "code",
      "execution_count": null,
      "metadata": {
        "id": "7AvwMuZHo6Tf"
      },
      "outputs": [],
      "source": [
        "from langchain_openai import OpenAIEmbeddings\n",
        "\n",
        "embeddings = OpenAIEmbeddings(\n",
        "    model=\"text-embedding-3-small\", api_key = openaikey\n",
        ")"
      ]
    },
    {
      "cell_type": "code",
      "source": [
        "from langchain_community.vectorstores import FAISS\n",
        "\n",
        "vector_store = FAISS.from_documents(documents, embeddings)"
      ],
      "metadata": {
        "id": "ipMOq3kljvko"
      },
      "execution_count": 19,
      "outputs": []
    },
    {
      "cell_type": "code",
      "source": [
        "retriever = vector_store.as_retriever()"
      ],
      "metadata": {
        "id": "UN8USdJ_jyZa"
      },
      "execution_count": 20,
      "outputs": []
    },
    {
      "cell_type": "code",
      "source": [
        "retrieved_documents = retriever.invoke(\"What is the company name?\")"
      ],
      "metadata": {
        "id": "ybKPN1_Ps-th"
      },
      "execution_count": 21,
      "outputs": []
    },
    {
      "cell_type": "code",
      "source": [
        "for doc in retrieved_documents:\n",
        "  print(doc)"
      ],
      "metadata": {
        "colab": {
          "base_uri": "https://localhost:8080/"
        },
        "id": "gs_r6E-XtC3d",
        "outputId": "6e36baca-d683-41e0-d8b6-f1fcc457f35d"
      },
      "execution_count": 22,
      "outputs": [
        {
          "output_type": "stream",
          "name": "stdout",
          "text": [
            "page_content=\"technologically advanced. Through this process, our customer service engineer ensures that every ticket \\nis an opportunity to showcase our expertise and dedication to our customers. \\n \\n3. Tags and Metadata Generation  \\nIn the domain of IT support, the generation of tags and metadata is not merely about organization — it's \\nabout creating a language through which a complex system can communicate clearly and categorize \\nefficiently. TechAssist Solutions employs its LLM to perform this task with precision, dissecting the \\nlanguage of support tickets to identify critical elements that will serve as tags.\" metadata={'source': 'TicketCopilot/Ticket_Master_Training_v2.pdf', 'file_path': 'TicketCopilot/Ticket_Master_Training_v2.pdf', 'page': 4, 'total_pages': 9, 'format': 'PDF 1.7', 'title': '', 'author': 'Aftab, Noor', 'subject': '', 'keywords': '', 'creator': 'Microsoft® Word LTSC', 'producer': 'Microsoft® Word LTSC', 'creationDate': \"D:20240325191408-07'00'\", 'modDate': \"D:20240325191408-07'00'\", 'trapped': ''}\n",
            "page_content='The Task: Optimizing IT Support with AI \\nTechAssist Solutions embarks on a mission to automate the handling of IT support tickets, transforming \\na traditionally human-centric operation into a seamless AI-powered workflow. Our goal is simple yet \\nambitious: to reduce response times, eliminate bottlenecks, and provide consistently high-quality \\nsupport to our diverse clientele. \\nThe Process \\nUtilizing a sophisticated Language Model (LLM), our system is trained to parse through the complex, \\nnuanced language of support requests. It identifies the nature of each issue, assigns priority, generates' metadata={'source': 'TicketCopilot/Ticket_Master_Training_v2.pdf', 'file_path': 'TicketCopilot/Ticket_Master_Training_v2.pdf', 'page': 0, 'total_pages': 9, 'format': 'PDF 1.7', 'title': '', 'author': 'Aftab, Noor', 'subject': '', 'keywords': '', 'creator': 'Microsoft® Word LTSC', 'producer': 'Microsoft® Word LTSC', 'creationDate': \"D:20240325191408-07'00'\", 'modDate': \"D:20240325191408-07'00'\", 'trapped': ''}\n",
            "page_content=\"appropriate tags, calculates resolution times, and crafts thoughtful responses. This AI-driven method \\nisn’t just about efficiency; it's about enhancing the human touch with technology, ensuring that each \\nclient feels heard and supported. \\nCustomer Personas and Customization \\nTechAssist Solutions recognizes the diverse landscape of its users and understands that behind every \\nticket is an individual with unique needs. Our AI is calibrated to serve an array of customer personas: \\nThe Remote Worker, Jane: Frequently encounters network issues. She expects swift and clear \\ncommunication to avoid work disruption. Our AI prioritizes such tickets highly due to their immediate\" metadata={'source': 'TicketCopilot/Ticket_Master_Training_v2.pdf', 'file_path': 'TicketCopilot/Ticket_Master_Training_v2.pdf', 'page': 0, 'total_pages': 9, 'format': 'PDF 1.7', 'title': '', 'author': 'Aftab, Noor', 'subject': '', 'keywords': '', 'creator': 'Microsoft® Word LTSC', 'producer': 'Microsoft® Word LTSC', 'creationDate': \"D:20240325191408-07'00'\", 'modDate': \"D:20240325191408-07'00'\", 'trapped': ''}\n",
            "page_content='6 | P a g e  \\nThe process begins with  extraction of system names, error codes, and other pertinent technical terms \\nthat are fundamental to understanding the ticket. This step involves a nuanced analysis of technical \\njargon and acronyms that are second nature to IT professionals but may be cryptic to others. For \\nexample, an error code like \"404\" is universally recognized within IT as a missing page, but to the \\nuninitiated, it\\'s just a number. The LLM is trained to recognize such codes and translate them into \\nmeaningful tags that can be utilized across the support system. \\nOnce the essential elements are extracted, the customer service engineer assign tags that encapsulate' metadata={'source': 'TicketCopilot/Ticket_Master_Training_v2.pdf', 'file_path': 'TicketCopilot/Ticket_Master_Training_v2.pdf', 'page': 5, 'total_pages': 9, 'format': 'PDF 1.7', 'title': '', 'author': 'Aftab, Noor', 'subject': '', 'keywords': '', 'creator': 'Microsoft® Word LTSC', 'producer': 'Microsoft® Word LTSC', 'creationDate': \"D:20240325191408-07'00'\", 'modDate': \"D:20240325191408-07'00'\", 'trapped': ''}\n"
          ]
        }
      ]
    },
    {
      "cell_type": "code",
      "source": [
        "from langchain.prompts import ChatPromptTemplate\n",
        "\n",
        "template2 = \"\"\"You are an IT support engineer. You will analyze support tickets and provide responses based on context.\n",
        "If you do not know an answer, respond with 'We will escalate your ticket to our support agents'.\n",
        "\n",
        "Context:\n",
        "{context}\n",
        "\n",
        "Question:\n",
        "{question}\n",
        "\"\"\"\n",
        "\n",
        "prompt = ChatPromptTemplate.from_template(template2)\n"
      ],
      "metadata": {
        "id": "Un1ORR-iGSak"
      },
      "execution_count": 23,
      "outputs": []
    },
    {
      "cell_type": "code",
      "source": [
        "from operator import itemgetter\n",
        "\n",
        "from langchain_openai import ChatOpenAI\n",
        "from langchain_core.output_parsers import StrOutputParser\n",
        "from langchain_core.runnables import RunnablePassthrough\n",
        "\n",
        "base_qa_llm = ChatOpenAI(model_name=\"gpt-3.5-turbo\", temperature=0, api_key=openaikey)\n",
        "\n",
        "###QA Chain\n",
        "\n",
        "retrieval_augmented_qa_chain_basic = (\n",
        "    # INVOKE CHAIN WITH: {\"question\" : \"<<SOME USER QUESTION>>\"}\n",
        "    # \"question\" : populated by getting the value of the \"question\" key\n",
        "    # \"context\"  : populated by getting the value of the \"question\" key and chaining it into the base_retriever\n",
        "    {\"context\": itemgetter(\"question\") | retriever, \"question\": itemgetter(\"question\")}\n",
        "    # \"context\"  : is assigned to a RunnablePassthrough object (will not be called or considered in the next step)\n",
        "    #              by getting the value of the \"context\" key from the previous step\n",
        "    | RunnablePassthrough.assign(context=itemgetter(\"context\"))\n",
        "    # \"response\" : the \"context\" and \"question\" values are used to format our prompt object and then piped\n",
        "    #              into the LLM and stored in a key called \"response\"\n",
        "    # \"context\"  : populated by getting the value of the \"context\" key from the previous step\n",
        "    | {\"response\": prompt | base_qa_llm, \"context\": itemgetter(\"context\")}\n",
        ")\n",
        "\n"
      ],
      "metadata": {
        "id": "8zm5XuzPYeI5"
      },
      "execution_count": 24,
      "outputs": []
    },
    {
      "cell_type": "code",
      "source": [
        "question = \"What are the different levels of priortity for tickets?\"\n",
        "\n",
        "result = retrieval_augmented_qa_chain_basic.invoke({\"question\" : question})\n",
        "\n",
        "print(result[\"response\"].content)"
      ],
      "metadata": {
        "colab": {
          "base_uri": "https://localhost:8080/"
        },
        "id": "mIWfG2lsF3Oh",
        "outputId": "5c0d7f66-e68a-4948-898e-a62f7e462caf"
      },
      "execution_count": 25,
      "outputs": [
        {
          "output_type": "stream",
          "name": "stdout",
          "text": [
            "The different levels of priority for tickets are as follows:\n",
            "1. Immediate Priority Response (Priority 5)\n",
            "2. Expedited (Within 1 Business Day) - Priority 4\n",
            "3. High (Within 3 Business Days) - Priority 3\n",
            "4. Moderate (Within a Week) - Priority 2\n",
            "5. Low (Flexible) - Priority 1\n",
            "\n",
            "If you need further assistance, feel free to ask.\n"
          ]
        }
      ]
    },
    {
      "cell_type": "code",
      "source": [
        "question = '''Wi-Fi is inconsistent despite proximity to the router. This is affecting my work. Help needed. What will be the classification of this ticket.\n",
        "Just return classification and nothing else.'''\n",
        "result = retrieval_augmented_qa_chain_basic.invoke({\"question\" : question})\n",
        "\n",
        "print(result[\"response\"].content)"
      ],
      "metadata": {
        "colab": {
          "base_uri": "https://localhost:8080/"
        },
        "id": "FDeycKUWmROR",
        "outputId": "919e3dc1-2302-486b-e40e-991b70c15fc9"
      },
      "execution_count": 26,
      "outputs": [
        {
          "output_type": "stream",
          "name": "stdout",
          "text": [
            "Hardware Issues\n"
          ]
        }
      ]
    },
    {
      "cell_type": "code",
      "source": [
        "question = \"Wi-Fi is inconsistent despite proximity to the router. This is affecting my work. What will the priority of this ticket?\"\n",
        "result = retrieval_augmented_qa_chain_basic.invoke({\"question\" : question})\n",
        "\n",
        "print(result[\"response\"].content)"
      ],
      "metadata": {
        "colab": {
          "base_uri": "https://localhost:8080/"
        },
        "id": "w0PcPqU2mrax",
        "outputId": "392b645e-4cb7-4d1c-82cc-dc89c76a26ea"
      },
      "execution_count": 27,
      "outputs": [
        {
          "output_type": "stream",
          "name": "stdout",
          "text": [
            "Based on the context provided, the issue of inconsistent Wi-Fi affecting work would likely fall under a Priority 5 (Urgent) ticket. This is because it impacts productivity and could have significant consequences for business continuity. It is a high-impact problem that affects the user's ability to work effectively.\n"
          ]
        }
      ]
    },
    {
      "cell_type": "code",
      "source": [
        "question = '''I've accidentally deleted essential work documents, causing substantial data loss. I understand the need to avoid further actions on my device.\n",
        "Can you please prioritize the data recovery process and guide me. Provide classification of the ticke'''\n",
        "result = retrieval_augmented_qa_chain_basic.invoke({\"question\" : question})\n",
        "\n",
        "print(result[\"response\"].content)"
      ],
      "metadata": {
        "colab": {
          "base_uri": "https://localhost:8080/"
        },
        "id": "2LriKK5GnE94",
        "outputId": "9917c894-8c83-4c6e-e60f-8ca4a233dd77"
      },
      "execution_count": 28,
      "outputs": [
        {
          "output_type": "stream",
          "name": "stdout",
          "text": [
            "Based on the context provided, your issue falls under the category of Data Recovery. Since you have experienced accidental deletion leading to substantial data loss, it is crucial to prioritize the data recovery process.\n",
            "\n",
            "Given the severity of the situation, we will escalate your ticket to our support agents who specialize in data recovery. They will guide you through the necessary steps to recover your lost work documents and ensure that further actions on your device do not worsen the situation.\n",
            "\n",
            "Thank you for reaching out, and rest assured that our team will assist you promptly.\n"
          ]
        }
      ]
    },
    {
      "cell_type": "markdown",
      "source": [
        "##Batch Processing Support Ticket"
      ],
      "metadata": {
        "id": "tzvHarKS2kJ4"
      }
    },
    {
      "cell_type": "code",
      "source": [
        "from google.colab import drive\n",
        "drive.mount('/content/drive')"
      ],
      "metadata": {
        "colab": {
          "base_uri": "https://localhost:8080/"
        },
        "id": "JSsviNnroV2E",
        "outputId": "0f543002-2c4b-48fb-f819-b163017ec07b"
      },
      "execution_count": 29,
      "outputs": [
        {
          "output_type": "stream",
          "name": "stdout",
          "text": [
            "Mounted at /content/drive\n"
          ]
        }
      ]
    },
    {
      "cell_type": "code",
      "source": [
        "data = pd.read_csv('/content/drive/MyDrive/TicketTest/Support_ticket_text_data.csv')"
      ],
      "metadata": {
        "id": "Q0_JuOKnnE4W"
      },
      "execution_count": 30,
      "outputs": []
    },
    {
      "cell_type": "code",
      "source": [
        "data.head()"
      ],
      "metadata": {
        "colab": {
          "base_uri": "https://localhost:8080/",
          "height": 206
        },
        "id": "b2Cmw0qdpxi0",
        "outputId": "b5044146-9414-4719-a273-e1462dee9c65"
      },
      "execution_count": 31,
      "outputs": [
        {
          "output_type": "execute_result",
          "data": {
            "text/plain": [
              "  support_tick_id                                support_ticket_text\n",
              "0      ST2023-006  My internet connection has significantly slowe...\n",
              "1      ST2023-007  Urgent help required! My laptop refuses to sta...\n",
              "2      ST2023-008  My external hard drive isn't being recognized,...\n",
              "3      ST2023-009  My smartphone battery is draining rapidly, eve...\n",
              "4      ST2023-010  I'm locked out of my online banking account an..."
            ],
            "text/html": [
              "\n",
              "  <div id=\"df-5ae95011-1f3c-4056-8e50-8430751f4d9a\" class=\"colab-df-container\">\n",
              "    <div>\n",
              "<style scoped>\n",
              "    .dataframe tbody tr th:only-of-type {\n",
              "        vertical-align: middle;\n",
              "    }\n",
              "\n",
              "    .dataframe tbody tr th {\n",
              "        vertical-align: top;\n",
              "    }\n",
              "\n",
              "    .dataframe thead th {\n",
              "        text-align: right;\n",
              "    }\n",
              "</style>\n",
              "<table border=\"1\" class=\"dataframe\">\n",
              "  <thead>\n",
              "    <tr style=\"text-align: right;\">\n",
              "      <th></th>\n",
              "      <th>support_tick_id</th>\n",
              "      <th>support_ticket_text</th>\n",
              "    </tr>\n",
              "  </thead>\n",
              "  <tbody>\n",
              "    <tr>\n",
              "      <th>0</th>\n",
              "      <td>ST2023-006</td>\n",
              "      <td>My internet connection has significantly slowe...</td>\n",
              "    </tr>\n",
              "    <tr>\n",
              "      <th>1</th>\n",
              "      <td>ST2023-007</td>\n",
              "      <td>Urgent help required! My laptop refuses to sta...</td>\n",
              "    </tr>\n",
              "    <tr>\n",
              "      <th>2</th>\n",
              "      <td>ST2023-008</td>\n",
              "      <td>My external hard drive isn't being recognized,...</td>\n",
              "    </tr>\n",
              "    <tr>\n",
              "      <th>3</th>\n",
              "      <td>ST2023-009</td>\n",
              "      <td>My smartphone battery is draining rapidly, eve...</td>\n",
              "    </tr>\n",
              "    <tr>\n",
              "      <th>4</th>\n",
              "      <td>ST2023-010</td>\n",
              "      <td>I'm locked out of my online banking account an...</td>\n",
              "    </tr>\n",
              "  </tbody>\n",
              "</table>\n",
              "</div>\n",
              "    <div class=\"colab-df-buttons\">\n",
              "\n",
              "  <div class=\"colab-df-container\">\n",
              "    <button class=\"colab-df-convert\" onclick=\"convertToInteractive('df-5ae95011-1f3c-4056-8e50-8430751f4d9a')\"\n",
              "            title=\"Convert this dataframe to an interactive table.\"\n",
              "            style=\"display:none;\">\n",
              "\n",
              "  <svg xmlns=\"http://www.w3.org/2000/svg\" height=\"24px\" viewBox=\"0 -960 960 960\">\n",
              "    <path d=\"M120-120v-720h720v720H120Zm60-500h600v-160H180v160Zm220 220h160v-160H400v160Zm0 220h160v-160H400v160ZM180-400h160v-160H180v160Zm440 0h160v-160H620v160ZM180-180h160v-160H180v160Zm440 0h160v-160H620v160Z\"/>\n",
              "  </svg>\n",
              "    </button>\n",
              "\n",
              "  <style>\n",
              "    .colab-df-container {\n",
              "      display:flex;\n",
              "      gap: 12px;\n",
              "    }\n",
              "\n",
              "    .colab-df-convert {\n",
              "      background-color: #E8F0FE;\n",
              "      border: none;\n",
              "      border-radius: 50%;\n",
              "      cursor: pointer;\n",
              "      display: none;\n",
              "      fill: #1967D2;\n",
              "      height: 32px;\n",
              "      padding: 0 0 0 0;\n",
              "      width: 32px;\n",
              "    }\n",
              "\n",
              "    .colab-df-convert:hover {\n",
              "      background-color: #E2EBFA;\n",
              "      box-shadow: 0px 1px 2px rgba(60, 64, 67, 0.3), 0px 1px 3px 1px rgba(60, 64, 67, 0.15);\n",
              "      fill: #174EA6;\n",
              "    }\n",
              "\n",
              "    .colab-df-buttons div {\n",
              "      margin-bottom: 4px;\n",
              "    }\n",
              "\n",
              "    [theme=dark] .colab-df-convert {\n",
              "      background-color: #3B4455;\n",
              "      fill: #D2E3FC;\n",
              "    }\n",
              "\n",
              "    [theme=dark] .colab-df-convert:hover {\n",
              "      background-color: #434B5C;\n",
              "      box-shadow: 0px 1px 3px 1px rgba(0, 0, 0, 0.15);\n",
              "      filter: drop-shadow(0px 1px 2px rgba(0, 0, 0, 0.3));\n",
              "      fill: #FFFFFF;\n",
              "    }\n",
              "  </style>\n",
              "\n",
              "    <script>\n",
              "      const buttonEl =\n",
              "        document.querySelector('#df-5ae95011-1f3c-4056-8e50-8430751f4d9a button.colab-df-convert');\n",
              "      buttonEl.style.display =\n",
              "        google.colab.kernel.accessAllowed ? 'block' : 'none';\n",
              "\n",
              "      async function convertToInteractive(key) {\n",
              "        const element = document.querySelector('#df-5ae95011-1f3c-4056-8e50-8430751f4d9a');\n",
              "        const dataTable =\n",
              "          await google.colab.kernel.invokeFunction('convertToInteractive',\n",
              "                                                    [key], {});\n",
              "        if (!dataTable) return;\n",
              "\n",
              "        const docLinkHtml = 'Like what you see? Visit the ' +\n",
              "          '<a target=\"_blank\" href=https://colab.research.google.com/notebooks/data_table.ipynb>data table notebook</a>'\n",
              "          + ' to learn more about interactive tables.';\n",
              "        element.innerHTML = '';\n",
              "        dataTable['output_type'] = 'display_data';\n",
              "        await google.colab.output.renderOutput(dataTable, element);\n",
              "        const docLink = document.createElement('div');\n",
              "        docLink.innerHTML = docLinkHtml;\n",
              "        element.appendChild(docLink);\n",
              "      }\n",
              "    </script>\n",
              "  </div>\n",
              "\n",
              "\n",
              "<div id=\"df-8fa9837d-759b-4fe6-ab19-e54184cda9bd\">\n",
              "  <button class=\"colab-df-quickchart\" onclick=\"quickchart('df-8fa9837d-759b-4fe6-ab19-e54184cda9bd')\"\n",
              "            title=\"Suggest charts\"\n",
              "            style=\"display:none;\">\n",
              "\n",
              "<svg xmlns=\"http://www.w3.org/2000/svg\" height=\"24px\"viewBox=\"0 0 24 24\"\n",
              "     width=\"24px\">\n",
              "    <g>\n",
              "        <path d=\"M19 3H5c-1.1 0-2 .9-2 2v14c0 1.1.9 2 2 2h14c1.1 0 2-.9 2-2V5c0-1.1-.9-2-2-2zM9 17H7v-7h2v7zm4 0h-2V7h2v10zm4 0h-2v-4h2v4z\"/>\n",
              "    </g>\n",
              "</svg>\n",
              "  </button>\n",
              "\n",
              "<style>\n",
              "  .colab-df-quickchart {\n",
              "      --bg-color: #E8F0FE;\n",
              "      --fill-color: #1967D2;\n",
              "      --hover-bg-color: #E2EBFA;\n",
              "      --hover-fill-color: #174EA6;\n",
              "      --disabled-fill-color: #AAA;\n",
              "      --disabled-bg-color: #DDD;\n",
              "  }\n",
              "\n",
              "  [theme=dark] .colab-df-quickchart {\n",
              "      --bg-color: #3B4455;\n",
              "      --fill-color: #D2E3FC;\n",
              "      --hover-bg-color: #434B5C;\n",
              "      --hover-fill-color: #FFFFFF;\n",
              "      --disabled-bg-color: #3B4455;\n",
              "      --disabled-fill-color: #666;\n",
              "  }\n",
              "\n",
              "  .colab-df-quickchart {\n",
              "    background-color: var(--bg-color);\n",
              "    border: none;\n",
              "    border-radius: 50%;\n",
              "    cursor: pointer;\n",
              "    display: none;\n",
              "    fill: var(--fill-color);\n",
              "    height: 32px;\n",
              "    padding: 0;\n",
              "    width: 32px;\n",
              "  }\n",
              "\n",
              "  .colab-df-quickchart:hover {\n",
              "    background-color: var(--hover-bg-color);\n",
              "    box-shadow: 0 1px 2px rgba(60, 64, 67, 0.3), 0 1px 3px 1px rgba(60, 64, 67, 0.15);\n",
              "    fill: var(--button-hover-fill-color);\n",
              "  }\n",
              "\n",
              "  .colab-df-quickchart-complete:disabled,\n",
              "  .colab-df-quickchart-complete:disabled:hover {\n",
              "    background-color: var(--disabled-bg-color);\n",
              "    fill: var(--disabled-fill-color);\n",
              "    box-shadow: none;\n",
              "  }\n",
              "\n",
              "  .colab-df-spinner {\n",
              "    border: 2px solid var(--fill-color);\n",
              "    border-color: transparent;\n",
              "    border-bottom-color: var(--fill-color);\n",
              "    animation:\n",
              "      spin 1s steps(1) infinite;\n",
              "  }\n",
              "\n",
              "  @keyframes spin {\n",
              "    0% {\n",
              "      border-color: transparent;\n",
              "      border-bottom-color: var(--fill-color);\n",
              "      border-left-color: var(--fill-color);\n",
              "    }\n",
              "    20% {\n",
              "      border-color: transparent;\n",
              "      border-left-color: var(--fill-color);\n",
              "      border-top-color: var(--fill-color);\n",
              "    }\n",
              "    30% {\n",
              "      border-color: transparent;\n",
              "      border-left-color: var(--fill-color);\n",
              "      border-top-color: var(--fill-color);\n",
              "      border-right-color: var(--fill-color);\n",
              "    }\n",
              "    40% {\n",
              "      border-color: transparent;\n",
              "      border-right-color: var(--fill-color);\n",
              "      border-top-color: var(--fill-color);\n",
              "    }\n",
              "    60% {\n",
              "      border-color: transparent;\n",
              "      border-right-color: var(--fill-color);\n",
              "    }\n",
              "    80% {\n",
              "      border-color: transparent;\n",
              "      border-right-color: var(--fill-color);\n",
              "      border-bottom-color: var(--fill-color);\n",
              "    }\n",
              "    90% {\n",
              "      border-color: transparent;\n",
              "      border-bottom-color: var(--fill-color);\n",
              "    }\n",
              "  }\n",
              "</style>\n",
              "\n",
              "  <script>\n",
              "    async function quickchart(key) {\n",
              "      const quickchartButtonEl =\n",
              "        document.querySelector('#' + key + ' button');\n",
              "      quickchartButtonEl.disabled = true;  // To prevent multiple clicks.\n",
              "      quickchartButtonEl.classList.add('colab-df-spinner');\n",
              "      try {\n",
              "        const charts = await google.colab.kernel.invokeFunction(\n",
              "            'suggestCharts', [key], {});\n",
              "      } catch (error) {\n",
              "        console.error('Error during call to suggestCharts:', error);\n",
              "      }\n",
              "      quickchartButtonEl.classList.remove('colab-df-spinner');\n",
              "      quickchartButtonEl.classList.add('colab-df-quickchart-complete');\n",
              "    }\n",
              "    (() => {\n",
              "      let quickchartButtonEl =\n",
              "        document.querySelector('#df-8fa9837d-759b-4fe6-ab19-e54184cda9bd button');\n",
              "      quickchartButtonEl.style.display =\n",
              "        google.colab.kernel.accessAllowed ? 'block' : 'none';\n",
              "    })();\n",
              "  </script>\n",
              "</div>\n",
              "\n",
              "    </div>\n",
              "  </div>\n"
            ],
            "application/vnd.google.colaboratory.intrinsic+json": {
              "type": "dataframe",
              "variable_name": "data",
              "summary": "{\n  \"name\": \"data\",\n  \"rows\": 20,\n  \"fields\": [\n    {\n      \"column\": \"support_tick_id\",\n      \"properties\": {\n        \"dtype\": \"string\",\n        \"num_unique_values\": 20,\n        \"samples\": [\n          \"ST2023-006\",\n          \"ST2023-024\",\n          \"ST2023-022\"\n        ],\n        \"semantic_type\": \"\",\n        \"description\": \"\"\n      }\n    },\n    {\n      \"column\": \"support_ticket_text\",\n      \"properties\": {\n        \"dtype\": \"string\",\n        \"num_unique_values\": 20,\n        \"samples\": [\n          \"My internet connection has significantly slowed down over the past two days, making it challenging to work efficiently from home. Frequent disconnections are causing major disruptions. Please assist in resolving this connectivity issue promptly.\",\n          \"Despite being in close proximity to my Wi-Fi router, the signal remains persistently weak in my home. This issue has been ongoing, and I need assistance troubleshooting it. Please help me resolve the weak Wi-Fi signal problem.\",\n          \"Wi-Fi is inconsistent despite proximity to the router. This is affecting my work. Help needed.\"\n        ],\n        \"semantic_type\": \"\",\n        \"description\": \"\"\n      }\n    }\n  ]\n}"
            }
          },
          "metadata": {},
          "execution_count": 31
        }
      ]
    },
    {
      "cell_type": "markdown",
      "source": [
        "###Data pre-processing check"
      ],
      "metadata": {
        "id": "CN_HHZaj2f0H"
      }
    },
    {
      "cell_type": "code",
      "source": [
        "data.isnull().sum()"
      ],
      "metadata": {
        "colab": {
          "base_uri": "https://localhost:8080/"
        },
        "id": "BjyT3oP62ZHp",
        "outputId": "ccc79a0a-348e-4f41-835d-32c0e6b8771c"
      },
      "execution_count": 32,
      "outputs": [
        {
          "output_type": "execute_result",
          "data": {
            "text/plain": [
              "support_tick_id        0\n",
              "support_ticket_text    0\n",
              "dtype: int64"
            ]
          },
          "metadata": {},
          "execution_count": 32
        }
      ]
    },
    {
      "cell_type": "code",
      "source": [
        "data1 = data.copy()"
      ],
      "metadata": {
        "id": "o_ZpXTUFqVIl"
      },
      "execution_count": 33,
      "outputs": []
    },
    {
      "cell_type": "code",
      "source": [
        "# Define the function to generate AI responses\n",
        "def generate_category(ticket_text):\n",
        "    instruction = f'''You are analyzing a support ticket: {ticket_text}. Analyze the ticket and assign only one category from: Hardware Issue, Software Issues, Network Issue,\n",
        "    Data Protection Issue, Other. Use the category that best matches the issue in {ticket_text}. Just return the category and nothing else.'''\n",
        "\n",
        "    result = retrieval_augmented_qa_chain_basic.invoke({\"question\": instruction})\n",
        "    return result['response'].content if 'response' in result and result['response'] else \"No response generated\"\n",
        "\n",
        "# Apply the function to each support ticket text and store the responses in a new column\n",
        "data1['Category'] = data1['support_ticket_text'].apply(lambda x: generate_category(x))\n"
      ],
      "metadata": {
        "id": "3AGWQb7tuqVQ"
      },
      "execution_count": 47,
      "outputs": []
    },
    {
      "cell_type": "code",
      "source": [
        "data1.head()"
      ],
      "metadata": {
        "colab": {
          "base_uri": "https://localhost:8080/",
          "height": 206
        },
        "id": "F5ZbPoXPYxo9",
        "outputId": "bea8dde2-a07a-40d2-a1eb-c04e68196039"
      },
      "execution_count": 48,
      "outputs": [
        {
          "output_type": "execute_result",
          "data": {
            "text/plain": [
              "  support_tick_id                                support_ticket_text  \\\n",
              "0      ST2023-006  My internet connection has significantly slowe...   \n",
              "1      ST2023-007  Urgent help required! My laptop refuses to sta...   \n",
              "2      ST2023-008  My external hard drive isn't being recognized,...   \n",
              "3      ST2023-009  My smartphone battery is draining rapidly, eve...   \n",
              "4      ST2023-010  I'm locked out of my online banking account an...   \n",
              "\n",
              "                   Category  \n",
              "0             Network Issue  \n",
              "1            Hardware Issue  \n",
              "2       Data Recovery Issue  \n",
              "3  Category: Hardware Issue  \n",
              "4     Data Protection Issue  "
            ],
            "text/html": [
              "\n",
              "  <div id=\"df-6ba510c2-1b17-483a-bbeb-3031dd1dd276\" class=\"colab-df-container\">\n",
              "    <div>\n",
              "<style scoped>\n",
              "    .dataframe tbody tr th:only-of-type {\n",
              "        vertical-align: middle;\n",
              "    }\n",
              "\n",
              "    .dataframe tbody tr th {\n",
              "        vertical-align: top;\n",
              "    }\n",
              "\n",
              "    .dataframe thead th {\n",
              "        text-align: right;\n",
              "    }\n",
              "</style>\n",
              "<table border=\"1\" class=\"dataframe\">\n",
              "  <thead>\n",
              "    <tr style=\"text-align: right;\">\n",
              "      <th></th>\n",
              "      <th>support_tick_id</th>\n",
              "      <th>support_ticket_text</th>\n",
              "      <th>Category</th>\n",
              "    </tr>\n",
              "  </thead>\n",
              "  <tbody>\n",
              "    <tr>\n",
              "      <th>0</th>\n",
              "      <td>ST2023-006</td>\n",
              "      <td>My internet connection has significantly slowe...</td>\n",
              "      <td>Network Issue</td>\n",
              "    </tr>\n",
              "    <tr>\n",
              "      <th>1</th>\n",
              "      <td>ST2023-007</td>\n",
              "      <td>Urgent help required! My laptop refuses to sta...</td>\n",
              "      <td>Hardware Issue</td>\n",
              "    </tr>\n",
              "    <tr>\n",
              "      <th>2</th>\n",
              "      <td>ST2023-008</td>\n",
              "      <td>My external hard drive isn't being recognized,...</td>\n",
              "      <td>Data Recovery Issue</td>\n",
              "    </tr>\n",
              "    <tr>\n",
              "      <th>3</th>\n",
              "      <td>ST2023-009</td>\n",
              "      <td>My smartphone battery is draining rapidly, eve...</td>\n",
              "      <td>Category: Hardware Issue</td>\n",
              "    </tr>\n",
              "    <tr>\n",
              "      <th>4</th>\n",
              "      <td>ST2023-010</td>\n",
              "      <td>I'm locked out of my online banking account an...</td>\n",
              "      <td>Data Protection Issue</td>\n",
              "    </tr>\n",
              "  </tbody>\n",
              "</table>\n",
              "</div>\n",
              "    <div class=\"colab-df-buttons\">\n",
              "\n",
              "  <div class=\"colab-df-container\">\n",
              "    <button class=\"colab-df-convert\" onclick=\"convertToInteractive('df-6ba510c2-1b17-483a-bbeb-3031dd1dd276')\"\n",
              "            title=\"Convert this dataframe to an interactive table.\"\n",
              "            style=\"display:none;\">\n",
              "\n",
              "  <svg xmlns=\"http://www.w3.org/2000/svg\" height=\"24px\" viewBox=\"0 -960 960 960\">\n",
              "    <path d=\"M120-120v-720h720v720H120Zm60-500h600v-160H180v160Zm220 220h160v-160H400v160Zm0 220h160v-160H400v160ZM180-400h160v-160H180v160Zm440 0h160v-160H620v160ZM180-180h160v-160H180v160Zm440 0h160v-160H620v160Z\"/>\n",
              "  </svg>\n",
              "    </button>\n",
              "\n",
              "  <style>\n",
              "    .colab-df-container {\n",
              "      display:flex;\n",
              "      gap: 12px;\n",
              "    }\n",
              "\n",
              "    .colab-df-convert {\n",
              "      background-color: #E8F0FE;\n",
              "      border: none;\n",
              "      border-radius: 50%;\n",
              "      cursor: pointer;\n",
              "      display: none;\n",
              "      fill: #1967D2;\n",
              "      height: 32px;\n",
              "      padding: 0 0 0 0;\n",
              "      width: 32px;\n",
              "    }\n",
              "\n",
              "    .colab-df-convert:hover {\n",
              "      background-color: #E2EBFA;\n",
              "      box-shadow: 0px 1px 2px rgba(60, 64, 67, 0.3), 0px 1px 3px 1px rgba(60, 64, 67, 0.15);\n",
              "      fill: #174EA6;\n",
              "    }\n",
              "\n",
              "    .colab-df-buttons div {\n",
              "      margin-bottom: 4px;\n",
              "    }\n",
              "\n",
              "    [theme=dark] .colab-df-convert {\n",
              "      background-color: #3B4455;\n",
              "      fill: #D2E3FC;\n",
              "    }\n",
              "\n",
              "    [theme=dark] .colab-df-convert:hover {\n",
              "      background-color: #434B5C;\n",
              "      box-shadow: 0px 1px 3px 1px rgba(0, 0, 0, 0.15);\n",
              "      filter: drop-shadow(0px 1px 2px rgba(0, 0, 0, 0.3));\n",
              "      fill: #FFFFFF;\n",
              "    }\n",
              "  </style>\n",
              "\n",
              "    <script>\n",
              "      const buttonEl =\n",
              "        document.querySelector('#df-6ba510c2-1b17-483a-bbeb-3031dd1dd276 button.colab-df-convert');\n",
              "      buttonEl.style.display =\n",
              "        google.colab.kernel.accessAllowed ? 'block' : 'none';\n",
              "\n",
              "      async function convertToInteractive(key) {\n",
              "        const element = document.querySelector('#df-6ba510c2-1b17-483a-bbeb-3031dd1dd276');\n",
              "        const dataTable =\n",
              "          await google.colab.kernel.invokeFunction('convertToInteractive',\n",
              "                                                    [key], {});\n",
              "        if (!dataTable) return;\n",
              "\n",
              "        const docLinkHtml = 'Like what you see? Visit the ' +\n",
              "          '<a target=\"_blank\" href=https://colab.research.google.com/notebooks/data_table.ipynb>data table notebook</a>'\n",
              "          + ' to learn more about interactive tables.';\n",
              "        element.innerHTML = '';\n",
              "        dataTable['output_type'] = 'display_data';\n",
              "        await google.colab.output.renderOutput(dataTable, element);\n",
              "        const docLink = document.createElement('div');\n",
              "        docLink.innerHTML = docLinkHtml;\n",
              "        element.appendChild(docLink);\n",
              "      }\n",
              "    </script>\n",
              "  </div>\n",
              "\n",
              "\n",
              "<div id=\"df-a61a9f80-ac80-411c-ba74-300e717723d7\">\n",
              "  <button class=\"colab-df-quickchart\" onclick=\"quickchart('df-a61a9f80-ac80-411c-ba74-300e717723d7')\"\n",
              "            title=\"Suggest charts\"\n",
              "            style=\"display:none;\">\n",
              "\n",
              "<svg xmlns=\"http://www.w3.org/2000/svg\" height=\"24px\"viewBox=\"0 0 24 24\"\n",
              "     width=\"24px\">\n",
              "    <g>\n",
              "        <path d=\"M19 3H5c-1.1 0-2 .9-2 2v14c0 1.1.9 2 2 2h14c1.1 0 2-.9 2-2V5c0-1.1-.9-2-2-2zM9 17H7v-7h2v7zm4 0h-2V7h2v10zm4 0h-2v-4h2v4z\"/>\n",
              "    </g>\n",
              "</svg>\n",
              "  </button>\n",
              "\n",
              "<style>\n",
              "  .colab-df-quickchart {\n",
              "      --bg-color: #E8F0FE;\n",
              "      --fill-color: #1967D2;\n",
              "      --hover-bg-color: #E2EBFA;\n",
              "      --hover-fill-color: #174EA6;\n",
              "      --disabled-fill-color: #AAA;\n",
              "      --disabled-bg-color: #DDD;\n",
              "  }\n",
              "\n",
              "  [theme=dark] .colab-df-quickchart {\n",
              "      --bg-color: #3B4455;\n",
              "      --fill-color: #D2E3FC;\n",
              "      --hover-bg-color: #434B5C;\n",
              "      --hover-fill-color: #FFFFFF;\n",
              "      --disabled-bg-color: #3B4455;\n",
              "      --disabled-fill-color: #666;\n",
              "  }\n",
              "\n",
              "  .colab-df-quickchart {\n",
              "    background-color: var(--bg-color);\n",
              "    border: none;\n",
              "    border-radius: 50%;\n",
              "    cursor: pointer;\n",
              "    display: none;\n",
              "    fill: var(--fill-color);\n",
              "    height: 32px;\n",
              "    padding: 0;\n",
              "    width: 32px;\n",
              "  }\n",
              "\n",
              "  .colab-df-quickchart:hover {\n",
              "    background-color: var(--hover-bg-color);\n",
              "    box-shadow: 0 1px 2px rgba(60, 64, 67, 0.3), 0 1px 3px 1px rgba(60, 64, 67, 0.15);\n",
              "    fill: var(--button-hover-fill-color);\n",
              "  }\n",
              "\n",
              "  .colab-df-quickchart-complete:disabled,\n",
              "  .colab-df-quickchart-complete:disabled:hover {\n",
              "    background-color: var(--disabled-bg-color);\n",
              "    fill: var(--disabled-fill-color);\n",
              "    box-shadow: none;\n",
              "  }\n",
              "\n",
              "  .colab-df-spinner {\n",
              "    border: 2px solid var(--fill-color);\n",
              "    border-color: transparent;\n",
              "    border-bottom-color: var(--fill-color);\n",
              "    animation:\n",
              "      spin 1s steps(1) infinite;\n",
              "  }\n",
              "\n",
              "  @keyframes spin {\n",
              "    0% {\n",
              "      border-color: transparent;\n",
              "      border-bottom-color: var(--fill-color);\n",
              "      border-left-color: var(--fill-color);\n",
              "    }\n",
              "    20% {\n",
              "      border-color: transparent;\n",
              "      border-left-color: var(--fill-color);\n",
              "      border-top-color: var(--fill-color);\n",
              "    }\n",
              "    30% {\n",
              "      border-color: transparent;\n",
              "      border-left-color: var(--fill-color);\n",
              "      border-top-color: var(--fill-color);\n",
              "      border-right-color: var(--fill-color);\n",
              "    }\n",
              "    40% {\n",
              "      border-color: transparent;\n",
              "      border-right-color: var(--fill-color);\n",
              "      border-top-color: var(--fill-color);\n",
              "    }\n",
              "    60% {\n",
              "      border-color: transparent;\n",
              "      border-right-color: var(--fill-color);\n",
              "    }\n",
              "    80% {\n",
              "      border-color: transparent;\n",
              "      border-right-color: var(--fill-color);\n",
              "      border-bottom-color: var(--fill-color);\n",
              "    }\n",
              "    90% {\n",
              "      border-color: transparent;\n",
              "      border-bottom-color: var(--fill-color);\n",
              "    }\n",
              "  }\n",
              "</style>\n",
              "\n",
              "  <script>\n",
              "    async function quickchart(key) {\n",
              "      const quickchartButtonEl =\n",
              "        document.querySelector('#' + key + ' button');\n",
              "      quickchartButtonEl.disabled = true;  // To prevent multiple clicks.\n",
              "      quickchartButtonEl.classList.add('colab-df-spinner');\n",
              "      try {\n",
              "        const charts = await google.colab.kernel.invokeFunction(\n",
              "            'suggestCharts', [key], {});\n",
              "      } catch (error) {\n",
              "        console.error('Error during call to suggestCharts:', error);\n",
              "      }\n",
              "      quickchartButtonEl.classList.remove('colab-df-spinner');\n",
              "      quickchartButtonEl.classList.add('colab-df-quickchart-complete');\n",
              "    }\n",
              "    (() => {\n",
              "      let quickchartButtonEl =\n",
              "        document.querySelector('#df-a61a9f80-ac80-411c-ba74-300e717723d7 button');\n",
              "      quickchartButtonEl.style.display =\n",
              "        google.colab.kernel.accessAllowed ? 'block' : 'none';\n",
              "    })();\n",
              "  </script>\n",
              "</div>\n",
              "\n",
              "    </div>\n",
              "  </div>\n"
            ],
            "application/vnd.google.colaboratory.intrinsic+json": {
              "type": "dataframe",
              "variable_name": "data1",
              "summary": "{\n  \"name\": \"data1\",\n  \"rows\": 20,\n  \"fields\": [\n    {\n      \"column\": \"support_tick_id\",\n      \"properties\": {\n        \"dtype\": \"string\",\n        \"num_unique_values\": 20,\n        \"samples\": [\n          \"ST2023-006\",\n          \"ST2023-024\",\n          \"ST2023-022\"\n        ],\n        \"semantic_type\": \"\",\n        \"description\": \"\"\n      }\n    },\n    {\n      \"column\": \"support_ticket_text\",\n      \"properties\": {\n        \"dtype\": \"string\",\n        \"num_unique_values\": 20,\n        \"samples\": [\n          \"My internet connection has significantly slowed down over the past two days, making it challenging to work efficiently from home. Frequent disconnections are causing major disruptions. Please assist in resolving this connectivity issue promptly.\",\n          \"Despite being in close proximity to my Wi-Fi router, the signal remains persistently weak in my home. This issue has been ongoing, and I need assistance troubleshooting it. Please help me resolve the weak Wi-Fi signal problem.\",\n          \"Wi-Fi is inconsistent despite proximity to the router. This is affecting my work. Help needed.\"\n        ],\n        \"semantic_type\": \"\",\n        \"description\": \"\"\n      }\n    },\n    {\n      \"column\": \"Category\",\n      \"properties\": {\n        \"dtype\": \"category\",\n        \"num_unique_values\": 6,\n        \"samples\": [\n          \"Network Issue\",\n          \"Hardware Issue\",\n          \"Performance Tuning\"\n        ],\n        \"semantic_type\": \"\",\n        \"description\": \"\"\n      }\n    }\n  ]\n}"
            }
          },
          "metadata": {},
          "execution_count": 48
        }
      ]
    },
    {
      "cell_type": "code",
      "source": [
        "# Define the function to generate AI responses\n",
        "def generate_priority(ticket_text):\n",
        "    instruction = f'''You are analyzing a support ticket: {ticket_text}. Based on the content of the ticket, generate a priority based on content as:\n",
        "        - Priority 1 (Low): The issue is more of an inconvenience than a blockage, with no immediate time constraint or significant impact on operations.\n",
        "        - Priority 2 (Moderate): The user's workflow is impeded but not completely stopped, or it affects a non-essential aspect of their work.\n",
        "        - Priority 3 (High): Core job functions are disrupted, impacting the user's productivity directly, with no immediate workaround available.\n",
        "        - Priority 4 (Critical): The issue is preventing a team from functioning efficiently, perhaps stopping a collaborative task, with wider implications if left unresolved.\n",
        "        - Priority 5 (Urgent): A high-impact problem that affects multiple users or entire systems, with potential significant consequences for business continuity and requiring immediate attention.\n",
        "\n",
        "        Use priority that best matches the issue in {ticket_text}. Just return the priority and nothing else.'''\n",
        "\n",
        "    result = retrieval_augmented_qa_chain_basic.invoke({\"question\": instruction})\n",
        "    return result['response'].content if 'response' in result and result['response'] else \"No response generated\"\n",
        "\n",
        "# Apply the function to each support ticket text and store the responses in a new column\n",
        "data1['Priority'] = data1['support_ticket_text'].apply(lambda x: generate_priority(x))"
      ],
      "metadata": {
        "id": "WbKStmdAvivY"
      },
      "execution_count": 49,
      "outputs": []
    },
    {
      "cell_type": "code",
      "source": [
        "data1.head()"
      ],
      "metadata": {
        "colab": {
          "base_uri": "https://localhost:8080/",
          "height": 206
        },
        "id": "5z6mvb-dwVj8",
        "outputId": "229d3900-9ceb-44f7-dabf-38e50e674425"
      },
      "execution_count": 50,
      "outputs": [
        {
          "output_type": "execute_result",
          "data": {
            "text/plain": [
              "  support_tick_id                                support_ticket_text  \\\n",
              "0      ST2023-006  My internet connection has significantly slowe...   \n",
              "1      ST2023-007  Urgent help required! My laptop refuses to sta...   \n",
              "2      ST2023-008  My external hard drive isn't being recognized,...   \n",
              "3      ST2023-009  My smartphone battery is draining rapidly, eve...   \n",
              "4      ST2023-010  I'm locked out of my online banking account an...   \n",
              "\n",
              "                   Category               Priority  \n",
              "0             Network Issue      Priority 3 (High)  \n",
              "1            Hardware Issue      Priority 3 (High)  \n",
              "2       Data Recovery Issue      Priority 3 (High)  \n",
              "3  Category: Hardware Issue  Priority 2 (Moderate)  \n",
              "4     Data Protection Issue    Priority 5 (Urgent)  "
            ],
            "text/html": [
              "\n",
              "  <div id=\"df-1ffc1939-c40e-47eb-b510-91188d33af9a\" class=\"colab-df-container\">\n",
              "    <div>\n",
              "<style scoped>\n",
              "    .dataframe tbody tr th:only-of-type {\n",
              "        vertical-align: middle;\n",
              "    }\n",
              "\n",
              "    .dataframe tbody tr th {\n",
              "        vertical-align: top;\n",
              "    }\n",
              "\n",
              "    .dataframe thead th {\n",
              "        text-align: right;\n",
              "    }\n",
              "</style>\n",
              "<table border=\"1\" class=\"dataframe\">\n",
              "  <thead>\n",
              "    <tr style=\"text-align: right;\">\n",
              "      <th></th>\n",
              "      <th>support_tick_id</th>\n",
              "      <th>support_ticket_text</th>\n",
              "      <th>Category</th>\n",
              "      <th>Priority</th>\n",
              "    </tr>\n",
              "  </thead>\n",
              "  <tbody>\n",
              "    <tr>\n",
              "      <th>0</th>\n",
              "      <td>ST2023-006</td>\n",
              "      <td>My internet connection has significantly slowe...</td>\n",
              "      <td>Network Issue</td>\n",
              "      <td>Priority 3 (High)</td>\n",
              "    </tr>\n",
              "    <tr>\n",
              "      <th>1</th>\n",
              "      <td>ST2023-007</td>\n",
              "      <td>Urgent help required! My laptop refuses to sta...</td>\n",
              "      <td>Hardware Issue</td>\n",
              "      <td>Priority 3 (High)</td>\n",
              "    </tr>\n",
              "    <tr>\n",
              "      <th>2</th>\n",
              "      <td>ST2023-008</td>\n",
              "      <td>My external hard drive isn't being recognized,...</td>\n",
              "      <td>Data Recovery Issue</td>\n",
              "      <td>Priority 3 (High)</td>\n",
              "    </tr>\n",
              "    <tr>\n",
              "      <th>3</th>\n",
              "      <td>ST2023-009</td>\n",
              "      <td>My smartphone battery is draining rapidly, eve...</td>\n",
              "      <td>Category: Hardware Issue</td>\n",
              "      <td>Priority 2 (Moderate)</td>\n",
              "    </tr>\n",
              "    <tr>\n",
              "      <th>4</th>\n",
              "      <td>ST2023-010</td>\n",
              "      <td>I'm locked out of my online banking account an...</td>\n",
              "      <td>Data Protection Issue</td>\n",
              "      <td>Priority 5 (Urgent)</td>\n",
              "    </tr>\n",
              "  </tbody>\n",
              "</table>\n",
              "</div>\n",
              "    <div class=\"colab-df-buttons\">\n",
              "\n",
              "  <div class=\"colab-df-container\">\n",
              "    <button class=\"colab-df-convert\" onclick=\"convertToInteractive('df-1ffc1939-c40e-47eb-b510-91188d33af9a')\"\n",
              "            title=\"Convert this dataframe to an interactive table.\"\n",
              "            style=\"display:none;\">\n",
              "\n",
              "  <svg xmlns=\"http://www.w3.org/2000/svg\" height=\"24px\" viewBox=\"0 -960 960 960\">\n",
              "    <path d=\"M120-120v-720h720v720H120Zm60-500h600v-160H180v160Zm220 220h160v-160H400v160Zm0 220h160v-160H400v160ZM180-400h160v-160H180v160Zm440 0h160v-160H620v160ZM180-180h160v-160H180v160Zm440 0h160v-160H620v160Z\"/>\n",
              "  </svg>\n",
              "    </button>\n",
              "\n",
              "  <style>\n",
              "    .colab-df-container {\n",
              "      display:flex;\n",
              "      gap: 12px;\n",
              "    }\n",
              "\n",
              "    .colab-df-convert {\n",
              "      background-color: #E8F0FE;\n",
              "      border: none;\n",
              "      border-radius: 50%;\n",
              "      cursor: pointer;\n",
              "      display: none;\n",
              "      fill: #1967D2;\n",
              "      height: 32px;\n",
              "      padding: 0 0 0 0;\n",
              "      width: 32px;\n",
              "    }\n",
              "\n",
              "    .colab-df-convert:hover {\n",
              "      background-color: #E2EBFA;\n",
              "      box-shadow: 0px 1px 2px rgba(60, 64, 67, 0.3), 0px 1px 3px 1px rgba(60, 64, 67, 0.15);\n",
              "      fill: #174EA6;\n",
              "    }\n",
              "\n",
              "    .colab-df-buttons div {\n",
              "      margin-bottom: 4px;\n",
              "    }\n",
              "\n",
              "    [theme=dark] .colab-df-convert {\n",
              "      background-color: #3B4455;\n",
              "      fill: #D2E3FC;\n",
              "    }\n",
              "\n",
              "    [theme=dark] .colab-df-convert:hover {\n",
              "      background-color: #434B5C;\n",
              "      box-shadow: 0px 1px 3px 1px rgba(0, 0, 0, 0.15);\n",
              "      filter: drop-shadow(0px 1px 2px rgba(0, 0, 0, 0.3));\n",
              "      fill: #FFFFFF;\n",
              "    }\n",
              "  </style>\n",
              "\n",
              "    <script>\n",
              "      const buttonEl =\n",
              "        document.querySelector('#df-1ffc1939-c40e-47eb-b510-91188d33af9a button.colab-df-convert');\n",
              "      buttonEl.style.display =\n",
              "        google.colab.kernel.accessAllowed ? 'block' : 'none';\n",
              "\n",
              "      async function convertToInteractive(key) {\n",
              "        const element = document.querySelector('#df-1ffc1939-c40e-47eb-b510-91188d33af9a');\n",
              "        const dataTable =\n",
              "          await google.colab.kernel.invokeFunction('convertToInteractive',\n",
              "                                                    [key], {});\n",
              "        if (!dataTable) return;\n",
              "\n",
              "        const docLinkHtml = 'Like what you see? Visit the ' +\n",
              "          '<a target=\"_blank\" href=https://colab.research.google.com/notebooks/data_table.ipynb>data table notebook</a>'\n",
              "          + ' to learn more about interactive tables.';\n",
              "        element.innerHTML = '';\n",
              "        dataTable['output_type'] = 'display_data';\n",
              "        await google.colab.output.renderOutput(dataTable, element);\n",
              "        const docLink = document.createElement('div');\n",
              "        docLink.innerHTML = docLinkHtml;\n",
              "        element.appendChild(docLink);\n",
              "      }\n",
              "    </script>\n",
              "  </div>\n",
              "\n",
              "\n",
              "<div id=\"df-dea389a4-5826-4de0-bc05-fb8686369eac\">\n",
              "  <button class=\"colab-df-quickchart\" onclick=\"quickchart('df-dea389a4-5826-4de0-bc05-fb8686369eac')\"\n",
              "            title=\"Suggest charts\"\n",
              "            style=\"display:none;\">\n",
              "\n",
              "<svg xmlns=\"http://www.w3.org/2000/svg\" height=\"24px\"viewBox=\"0 0 24 24\"\n",
              "     width=\"24px\">\n",
              "    <g>\n",
              "        <path d=\"M19 3H5c-1.1 0-2 .9-2 2v14c0 1.1.9 2 2 2h14c1.1 0 2-.9 2-2V5c0-1.1-.9-2-2-2zM9 17H7v-7h2v7zm4 0h-2V7h2v10zm4 0h-2v-4h2v4z\"/>\n",
              "    </g>\n",
              "</svg>\n",
              "  </button>\n",
              "\n",
              "<style>\n",
              "  .colab-df-quickchart {\n",
              "      --bg-color: #E8F0FE;\n",
              "      --fill-color: #1967D2;\n",
              "      --hover-bg-color: #E2EBFA;\n",
              "      --hover-fill-color: #174EA6;\n",
              "      --disabled-fill-color: #AAA;\n",
              "      --disabled-bg-color: #DDD;\n",
              "  }\n",
              "\n",
              "  [theme=dark] .colab-df-quickchart {\n",
              "      --bg-color: #3B4455;\n",
              "      --fill-color: #D2E3FC;\n",
              "      --hover-bg-color: #434B5C;\n",
              "      --hover-fill-color: #FFFFFF;\n",
              "      --disabled-bg-color: #3B4455;\n",
              "      --disabled-fill-color: #666;\n",
              "  }\n",
              "\n",
              "  .colab-df-quickchart {\n",
              "    background-color: var(--bg-color);\n",
              "    border: none;\n",
              "    border-radius: 50%;\n",
              "    cursor: pointer;\n",
              "    display: none;\n",
              "    fill: var(--fill-color);\n",
              "    height: 32px;\n",
              "    padding: 0;\n",
              "    width: 32px;\n",
              "  }\n",
              "\n",
              "  .colab-df-quickchart:hover {\n",
              "    background-color: var(--hover-bg-color);\n",
              "    box-shadow: 0 1px 2px rgba(60, 64, 67, 0.3), 0 1px 3px 1px rgba(60, 64, 67, 0.15);\n",
              "    fill: var(--button-hover-fill-color);\n",
              "  }\n",
              "\n",
              "  .colab-df-quickchart-complete:disabled,\n",
              "  .colab-df-quickchart-complete:disabled:hover {\n",
              "    background-color: var(--disabled-bg-color);\n",
              "    fill: var(--disabled-fill-color);\n",
              "    box-shadow: none;\n",
              "  }\n",
              "\n",
              "  .colab-df-spinner {\n",
              "    border: 2px solid var(--fill-color);\n",
              "    border-color: transparent;\n",
              "    border-bottom-color: var(--fill-color);\n",
              "    animation:\n",
              "      spin 1s steps(1) infinite;\n",
              "  }\n",
              "\n",
              "  @keyframes spin {\n",
              "    0% {\n",
              "      border-color: transparent;\n",
              "      border-bottom-color: var(--fill-color);\n",
              "      border-left-color: var(--fill-color);\n",
              "    }\n",
              "    20% {\n",
              "      border-color: transparent;\n",
              "      border-left-color: var(--fill-color);\n",
              "      border-top-color: var(--fill-color);\n",
              "    }\n",
              "    30% {\n",
              "      border-color: transparent;\n",
              "      border-left-color: var(--fill-color);\n",
              "      border-top-color: var(--fill-color);\n",
              "      border-right-color: var(--fill-color);\n",
              "    }\n",
              "    40% {\n",
              "      border-color: transparent;\n",
              "      border-right-color: var(--fill-color);\n",
              "      border-top-color: var(--fill-color);\n",
              "    }\n",
              "    60% {\n",
              "      border-color: transparent;\n",
              "      border-right-color: var(--fill-color);\n",
              "    }\n",
              "    80% {\n",
              "      border-color: transparent;\n",
              "      border-right-color: var(--fill-color);\n",
              "      border-bottom-color: var(--fill-color);\n",
              "    }\n",
              "    90% {\n",
              "      border-color: transparent;\n",
              "      border-bottom-color: var(--fill-color);\n",
              "    }\n",
              "  }\n",
              "</style>\n",
              "\n",
              "  <script>\n",
              "    async function quickchart(key) {\n",
              "      const quickchartButtonEl =\n",
              "        document.querySelector('#' + key + ' button');\n",
              "      quickchartButtonEl.disabled = true;  // To prevent multiple clicks.\n",
              "      quickchartButtonEl.classList.add('colab-df-spinner');\n",
              "      try {\n",
              "        const charts = await google.colab.kernel.invokeFunction(\n",
              "            'suggestCharts', [key], {});\n",
              "      } catch (error) {\n",
              "        console.error('Error during call to suggestCharts:', error);\n",
              "      }\n",
              "      quickchartButtonEl.classList.remove('colab-df-spinner');\n",
              "      quickchartButtonEl.classList.add('colab-df-quickchart-complete');\n",
              "    }\n",
              "    (() => {\n",
              "      let quickchartButtonEl =\n",
              "        document.querySelector('#df-dea389a4-5826-4de0-bc05-fb8686369eac button');\n",
              "      quickchartButtonEl.style.display =\n",
              "        google.colab.kernel.accessAllowed ? 'block' : 'none';\n",
              "    })();\n",
              "  </script>\n",
              "</div>\n",
              "\n",
              "    </div>\n",
              "  </div>\n"
            ],
            "application/vnd.google.colaboratory.intrinsic+json": {
              "type": "dataframe",
              "variable_name": "data1",
              "summary": "{\n  \"name\": \"data1\",\n  \"rows\": 20,\n  \"fields\": [\n    {\n      \"column\": \"support_tick_id\",\n      \"properties\": {\n        \"dtype\": \"string\",\n        \"num_unique_values\": 20,\n        \"samples\": [\n          \"ST2023-006\",\n          \"ST2023-024\",\n          \"ST2023-022\"\n        ],\n        \"semantic_type\": \"\",\n        \"description\": \"\"\n      }\n    },\n    {\n      \"column\": \"support_ticket_text\",\n      \"properties\": {\n        \"dtype\": \"string\",\n        \"num_unique_values\": 20,\n        \"samples\": [\n          \"My internet connection has significantly slowed down over the past two days, making it challenging to work efficiently from home. Frequent disconnections are causing major disruptions. Please assist in resolving this connectivity issue promptly.\",\n          \"Despite being in close proximity to my Wi-Fi router, the signal remains persistently weak in my home. This issue has been ongoing, and I need assistance troubleshooting it. Please help me resolve the weak Wi-Fi signal problem.\",\n          \"Wi-Fi is inconsistent despite proximity to the router. This is affecting my work. Help needed.\"\n        ],\n        \"semantic_type\": \"\",\n        \"description\": \"\"\n      }\n    },\n    {\n      \"column\": \"Category\",\n      \"properties\": {\n        \"dtype\": \"category\",\n        \"num_unique_values\": 6,\n        \"samples\": [\n          \"Network Issue\",\n          \"Hardware Issue\",\n          \"Performance Tuning\"\n        ],\n        \"semantic_type\": \"\",\n        \"description\": \"\"\n      }\n    },\n    {\n      \"column\": \"Priority\",\n      \"properties\": {\n        \"dtype\": \"category\",\n        \"num_unique_values\": 3,\n        \"samples\": [\n          \"Priority 3 (High)\",\n          \"Priority 2 (Moderate)\",\n          \"Priority 5 (Urgent)\"\n        ],\n        \"semantic_type\": \"\",\n        \"description\": \"\"\n      }\n    }\n  ]\n}"
            }
          },
          "metadata": {},
          "execution_count": 50
        }
      ]
    },
    {
      "cell_type": "code",
      "source": [
        "# Define the function to generate ETA\n",
        "def generate_eta(ticket_text):\n",
        "    instruction = f'''You are analyzing a support ticket: {ticket_text}. Analyze the ticket and assign an ETA based on context. Use the ETA that best matches the issue in {ticket_text}.\n",
        "    Just return the ETA and no other text.'''\n",
        "\n",
        "    result = retrieval_augmented_qa_chain_basic.invoke({\"question\": instruction})\n",
        "    return result['response'].content if 'response' in result and result['response'] else \"No response generated\"\n",
        "\n",
        "# Apply the function to each support ticket text and store the responses in a new column\n",
        "data1['ETA'] = data1['support_ticket_text'].apply(lambda x: generate_eta(x))"
      ],
      "metadata": {
        "id": "iQvbtWc14a_x"
      },
      "execution_count": 51,
      "outputs": []
    },
    {
      "cell_type": "code",
      "source": [
        "data1.head()"
      ],
      "metadata": {
        "colab": {
          "base_uri": "https://localhost:8080/",
          "height": 206
        },
        "id": "URiqaYH34r54",
        "outputId": "2054aa9a-d958-4e5b-98db-e7daeaaaffe2"
      },
      "execution_count": 52,
      "outputs": [
        {
          "output_type": "execute_result",
          "data": {
            "text/plain": [
              "  support_tick_id                                support_ticket_text  \\\n",
              "0      ST2023-006  My internet connection has significantly slowe...   \n",
              "1      ST2023-007  Urgent help required! My laptop refuses to sta...   \n",
              "2      ST2023-008  My external hard drive isn't being recognized,...   \n",
              "3      ST2023-009  My smartphone battery is draining rapidly, eve...   \n",
              "4      ST2023-010  I'm locked out of my online banking account an...   \n",
              "\n",
              "                   Category               Priority                       ETA  \n",
              "0             Network Issue      Priority 3 (High)             Within a Week  \n",
              "1            Hardware Issue      Priority 3 (High)  Immediate (Within Hours)  \n",
              "2       Data Recovery Issue      Priority 3 (High)  Immediate (Within Hours)  \n",
              "3  Category: Hardware Issue  Priority 2 (Moderate)  Immediate (Within Hours)  \n",
              "4     Data Protection Issue    Priority 5 (Urgent)  Immediate (Within Hours)  "
            ],
            "text/html": [
              "\n",
              "  <div id=\"df-5b95a9ff-19e9-488d-b2ca-62b518b17f4d\" class=\"colab-df-container\">\n",
              "    <div>\n",
              "<style scoped>\n",
              "    .dataframe tbody tr th:only-of-type {\n",
              "        vertical-align: middle;\n",
              "    }\n",
              "\n",
              "    .dataframe tbody tr th {\n",
              "        vertical-align: top;\n",
              "    }\n",
              "\n",
              "    .dataframe thead th {\n",
              "        text-align: right;\n",
              "    }\n",
              "</style>\n",
              "<table border=\"1\" class=\"dataframe\">\n",
              "  <thead>\n",
              "    <tr style=\"text-align: right;\">\n",
              "      <th></th>\n",
              "      <th>support_tick_id</th>\n",
              "      <th>support_ticket_text</th>\n",
              "      <th>Category</th>\n",
              "      <th>Priority</th>\n",
              "      <th>ETA</th>\n",
              "    </tr>\n",
              "  </thead>\n",
              "  <tbody>\n",
              "    <tr>\n",
              "      <th>0</th>\n",
              "      <td>ST2023-006</td>\n",
              "      <td>My internet connection has significantly slowe...</td>\n",
              "      <td>Network Issue</td>\n",
              "      <td>Priority 3 (High)</td>\n",
              "      <td>Within a Week</td>\n",
              "    </tr>\n",
              "    <tr>\n",
              "      <th>1</th>\n",
              "      <td>ST2023-007</td>\n",
              "      <td>Urgent help required! My laptop refuses to sta...</td>\n",
              "      <td>Hardware Issue</td>\n",
              "      <td>Priority 3 (High)</td>\n",
              "      <td>Immediate (Within Hours)</td>\n",
              "    </tr>\n",
              "    <tr>\n",
              "      <th>2</th>\n",
              "      <td>ST2023-008</td>\n",
              "      <td>My external hard drive isn't being recognized,...</td>\n",
              "      <td>Data Recovery Issue</td>\n",
              "      <td>Priority 3 (High)</td>\n",
              "      <td>Immediate (Within Hours)</td>\n",
              "    </tr>\n",
              "    <tr>\n",
              "      <th>3</th>\n",
              "      <td>ST2023-009</td>\n",
              "      <td>My smartphone battery is draining rapidly, eve...</td>\n",
              "      <td>Category: Hardware Issue</td>\n",
              "      <td>Priority 2 (Moderate)</td>\n",
              "      <td>Immediate (Within Hours)</td>\n",
              "    </tr>\n",
              "    <tr>\n",
              "      <th>4</th>\n",
              "      <td>ST2023-010</td>\n",
              "      <td>I'm locked out of my online banking account an...</td>\n",
              "      <td>Data Protection Issue</td>\n",
              "      <td>Priority 5 (Urgent)</td>\n",
              "      <td>Immediate (Within Hours)</td>\n",
              "    </tr>\n",
              "  </tbody>\n",
              "</table>\n",
              "</div>\n",
              "    <div class=\"colab-df-buttons\">\n",
              "\n",
              "  <div class=\"colab-df-container\">\n",
              "    <button class=\"colab-df-convert\" onclick=\"convertToInteractive('df-5b95a9ff-19e9-488d-b2ca-62b518b17f4d')\"\n",
              "            title=\"Convert this dataframe to an interactive table.\"\n",
              "            style=\"display:none;\">\n",
              "\n",
              "  <svg xmlns=\"http://www.w3.org/2000/svg\" height=\"24px\" viewBox=\"0 -960 960 960\">\n",
              "    <path d=\"M120-120v-720h720v720H120Zm60-500h600v-160H180v160Zm220 220h160v-160H400v160Zm0 220h160v-160H400v160ZM180-400h160v-160H180v160Zm440 0h160v-160H620v160ZM180-180h160v-160H180v160Zm440 0h160v-160H620v160Z\"/>\n",
              "  </svg>\n",
              "    </button>\n",
              "\n",
              "  <style>\n",
              "    .colab-df-container {\n",
              "      display:flex;\n",
              "      gap: 12px;\n",
              "    }\n",
              "\n",
              "    .colab-df-convert {\n",
              "      background-color: #E8F0FE;\n",
              "      border: none;\n",
              "      border-radius: 50%;\n",
              "      cursor: pointer;\n",
              "      display: none;\n",
              "      fill: #1967D2;\n",
              "      height: 32px;\n",
              "      padding: 0 0 0 0;\n",
              "      width: 32px;\n",
              "    }\n",
              "\n",
              "    .colab-df-convert:hover {\n",
              "      background-color: #E2EBFA;\n",
              "      box-shadow: 0px 1px 2px rgba(60, 64, 67, 0.3), 0px 1px 3px 1px rgba(60, 64, 67, 0.15);\n",
              "      fill: #174EA6;\n",
              "    }\n",
              "\n",
              "    .colab-df-buttons div {\n",
              "      margin-bottom: 4px;\n",
              "    }\n",
              "\n",
              "    [theme=dark] .colab-df-convert {\n",
              "      background-color: #3B4455;\n",
              "      fill: #D2E3FC;\n",
              "    }\n",
              "\n",
              "    [theme=dark] .colab-df-convert:hover {\n",
              "      background-color: #434B5C;\n",
              "      box-shadow: 0px 1px 3px 1px rgba(0, 0, 0, 0.15);\n",
              "      filter: drop-shadow(0px 1px 2px rgba(0, 0, 0, 0.3));\n",
              "      fill: #FFFFFF;\n",
              "    }\n",
              "  </style>\n",
              "\n",
              "    <script>\n",
              "      const buttonEl =\n",
              "        document.querySelector('#df-5b95a9ff-19e9-488d-b2ca-62b518b17f4d button.colab-df-convert');\n",
              "      buttonEl.style.display =\n",
              "        google.colab.kernel.accessAllowed ? 'block' : 'none';\n",
              "\n",
              "      async function convertToInteractive(key) {\n",
              "        const element = document.querySelector('#df-5b95a9ff-19e9-488d-b2ca-62b518b17f4d');\n",
              "        const dataTable =\n",
              "          await google.colab.kernel.invokeFunction('convertToInteractive',\n",
              "                                                    [key], {});\n",
              "        if (!dataTable) return;\n",
              "\n",
              "        const docLinkHtml = 'Like what you see? Visit the ' +\n",
              "          '<a target=\"_blank\" href=https://colab.research.google.com/notebooks/data_table.ipynb>data table notebook</a>'\n",
              "          + ' to learn more about interactive tables.';\n",
              "        element.innerHTML = '';\n",
              "        dataTable['output_type'] = 'display_data';\n",
              "        await google.colab.output.renderOutput(dataTable, element);\n",
              "        const docLink = document.createElement('div');\n",
              "        docLink.innerHTML = docLinkHtml;\n",
              "        element.appendChild(docLink);\n",
              "      }\n",
              "    </script>\n",
              "  </div>\n",
              "\n",
              "\n",
              "<div id=\"df-b719f5fa-de0d-4e3b-8c43-c9f75a1a18fc\">\n",
              "  <button class=\"colab-df-quickchart\" onclick=\"quickchart('df-b719f5fa-de0d-4e3b-8c43-c9f75a1a18fc')\"\n",
              "            title=\"Suggest charts\"\n",
              "            style=\"display:none;\">\n",
              "\n",
              "<svg xmlns=\"http://www.w3.org/2000/svg\" height=\"24px\"viewBox=\"0 0 24 24\"\n",
              "     width=\"24px\">\n",
              "    <g>\n",
              "        <path d=\"M19 3H5c-1.1 0-2 .9-2 2v14c0 1.1.9 2 2 2h14c1.1 0 2-.9 2-2V5c0-1.1-.9-2-2-2zM9 17H7v-7h2v7zm4 0h-2V7h2v10zm4 0h-2v-4h2v4z\"/>\n",
              "    </g>\n",
              "</svg>\n",
              "  </button>\n",
              "\n",
              "<style>\n",
              "  .colab-df-quickchart {\n",
              "      --bg-color: #E8F0FE;\n",
              "      --fill-color: #1967D2;\n",
              "      --hover-bg-color: #E2EBFA;\n",
              "      --hover-fill-color: #174EA6;\n",
              "      --disabled-fill-color: #AAA;\n",
              "      --disabled-bg-color: #DDD;\n",
              "  }\n",
              "\n",
              "  [theme=dark] .colab-df-quickchart {\n",
              "      --bg-color: #3B4455;\n",
              "      --fill-color: #D2E3FC;\n",
              "      --hover-bg-color: #434B5C;\n",
              "      --hover-fill-color: #FFFFFF;\n",
              "      --disabled-bg-color: #3B4455;\n",
              "      --disabled-fill-color: #666;\n",
              "  }\n",
              "\n",
              "  .colab-df-quickchart {\n",
              "    background-color: var(--bg-color);\n",
              "    border: none;\n",
              "    border-radius: 50%;\n",
              "    cursor: pointer;\n",
              "    display: none;\n",
              "    fill: var(--fill-color);\n",
              "    height: 32px;\n",
              "    padding: 0;\n",
              "    width: 32px;\n",
              "  }\n",
              "\n",
              "  .colab-df-quickchart:hover {\n",
              "    background-color: var(--hover-bg-color);\n",
              "    box-shadow: 0 1px 2px rgba(60, 64, 67, 0.3), 0 1px 3px 1px rgba(60, 64, 67, 0.15);\n",
              "    fill: var(--button-hover-fill-color);\n",
              "  }\n",
              "\n",
              "  .colab-df-quickchart-complete:disabled,\n",
              "  .colab-df-quickchart-complete:disabled:hover {\n",
              "    background-color: var(--disabled-bg-color);\n",
              "    fill: var(--disabled-fill-color);\n",
              "    box-shadow: none;\n",
              "  }\n",
              "\n",
              "  .colab-df-spinner {\n",
              "    border: 2px solid var(--fill-color);\n",
              "    border-color: transparent;\n",
              "    border-bottom-color: var(--fill-color);\n",
              "    animation:\n",
              "      spin 1s steps(1) infinite;\n",
              "  }\n",
              "\n",
              "  @keyframes spin {\n",
              "    0% {\n",
              "      border-color: transparent;\n",
              "      border-bottom-color: var(--fill-color);\n",
              "      border-left-color: var(--fill-color);\n",
              "    }\n",
              "    20% {\n",
              "      border-color: transparent;\n",
              "      border-left-color: var(--fill-color);\n",
              "      border-top-color: var(--fill-color);\n",
              "    }\n",
              "    30% {\n",
              "      border-color: transparent;\n",
              "      border-left-color: var(--fill-color);\n",
              "      border-top-color: var(--fill-color);\n",
              "      border-right-color: var(--fill-color);\n",
              "    }\n",
              "    40% {\n",
              "      border-color: transparent;\n",
              "      border-right-color: var(--fill-color);\n",
              "      border-top-color: var(--fill-color);\n",
              "    }\n",
              "    60% {\n",
              "      border-color: transparent;\n",
              "      border-right-color: var(--fill-color);\n",
              "    }\n",
              "    80% {\n",
              "      border-color: transparent;\n",
              "      border-right-color: var(--fill-color);\n",
              "      border-bottom-color: var(--fill-color);\n",
              "    }\n",
              "    90% {\n",
              "      border-color: transparent;\n",
              "      border-bottom-color: var(--fill-color);\n",
              "    }\n",
              "  }\n",
              "</style>\n",
              "\n",
              "  <script>\n",
              "    async function quickchart(key) {\n",
              "      const quickchartButtonEl =\n",
              "        document.querySelector('#' + key + ' button');\n",
              "      quickchartButtonEl.disabled = true;  // To prevent multiple clicks.\n",
              "      quickchartButtonEl.classList.add('colab-df-spinner');\n",
              "      try {\n",
              "        const charts = await google.colab.kernel.invokeFunction(\n",
              "            'suggestCharts', [key], {});\n",
              "      } catch (error) {\n",
              "        console.error('Error during call to suggestCharts:', error);\n",
              "      }\n",
              "      quickchartButtonEl.classList.remove('colab-df-spinner');\n",
              "      quickchartButtonEl.classList.add('colab-df-quickchart-complete');\n",
              "    }\n",
              "    (() => {\n",
              "      let quickchartButtonEl =\n",
              "        document.querySelector('#df-b719f5fa-de0d-4e3b-8c43-c9f75a1a18fc button');\n",
              "      quickchartButtonEl.style.display =\n",
              "        google.colab.kernel.accessAllowed ? 'block' : 'none';\n",
              "    })();\n",
              "  </script>\n",
              "</div>\n",
              "\n",
              "    </div>\n",
              "  </div>\n"
            ],
            "application/vnd.google.colaboratory.intrinsic+json": {
              "type": "dataframe",
              "variable_name": "data1",
              "summary": "{\n  \"name\": \"data1\",\n  \"rows\": 20,\n  \"fields\": [\n    {\n      \"column\": \"support_tick_id\",\n      \"properties\": {\n        \"dtype\": \"string\",\n        \"num_unique_values\": 20,\n        \"samples\": [\n          \"ST2023-006\",\n          \"ST2023-024\",\n          \"ST2023-022\"\n        ],\n        \"semantic_type\": \"\",\n        \"description\": \"\"\n      }\n    },\n    {\n      \"column\": \"support_ticket_text\",\n      \"properties\": {\n        \"dtype\": \"string\",\n        \"num_unique_values\": 20,\n        \"samples\": [\n          \"My internet connection has significantly slowed down over the past two days, making it challenging to work efficiently from home. Frequent disconnections are causing major disruptions. Please assist in resolving this connectivity issue promptly.\",\n          \"Despite being in close proximity to my Wi-Fi router, the signal remains persistently weak in my home. This issue has been ongoing, and I need assistance troubleshooting it. Please help me resolve the weak Wi-Fi signal problem.\",\n          \"Wi-Fi is inconsistent despite proximity to the router. This is affecting my work. Help needed.\"\n        ],\n        \"semantic_type\": \"\",\n        \"description\": \"\"\n      }\n    },\n    {\n      \"column\": \"Category\",\n      \"properties\": {\n        \"dtype\": \"category\",\n        \"num_unique_values\": 6,\n        \"samples\": [\n          \"Network Issue\",\n          \"Hardware Issue\",\n          \"Performance Tuning\"\n        ],\n        \"semantic_type\": \"\",\n        \"description\": \"\"\n      }\n    },\n    {\n      \"column\": \"Priority\",\n      \"properties\": {\n        \"dtype\": \"category\",\n        \"num_unique_values\": 3,\n        \"samples\": [\n          \"Priority 3 (High)\",\n          \"Priority 2 (Moderate)\",\n          \"Priority 5 (Urgent)\"\n        ],\n        \"semantic_type\": \"\",\n        \"description\": \"\"\n      }\n    },\n    {\n      \"column\": \"ETA\",\n      \"properties\": {\n        \"dtype\": \"category\",\n        \"num_unique_values\": 4,\n        \"samples\": [\n          \"Immediate (Within Hours)\",\n          \"Within 1 Business Day\",\n          \"Within a Week\"\n        ],\n        \"semantic_type\": \"\",\n        \"description\": \"\"\n      }\n    }\n  ]\n}"
            }
          },
          "metadata": {},
          "execution_count": 52
        }
      ]
    },
    {
      "cell_type": "code",
      "source": [
        "# Define the function to generate draft responses\n",
        "def generate_draft_response(ticket_text):\n",
        "    instruction = f'''You are analyzing a support ticket: {ticket_text}. Generate a draft response based on the ticket content. Start with Dear Customer'''\n",
        "\n",
        "    result = retrieval_augmented_qa_chain_basic.invoke({\"question\": instruction})\n",
        "    return result['response'].content if 'response' in result and result['response'] else \"No response generated\"\n",
        "\n",
        "# Apply the function to each support ticket text and store the responses in a new column\n",
        "data1['Response'] = data1['support_ticket_text'].apply(lambda x: generate_draft_response(x))\n"
      ],
      "metadata": {
        "id": "yfQjMlDMy6St"
      },
      "execution_count": 53,
      "outputs": []
    },
    {
      "cell_type": "code",
      "source": [
        "data1.head()"
      ],
      "metadata": {
        "colab": {
          "base_uri": "https://localhost:8080/",
          "height": 206
        },
        "id": "kfg_JOVky93F",
        "outputId": "4c3cf45a-eac8-41e1-ac9b-7f157891c8a3"
      },
      "execution_count": null,
      "outputs": [
        {
          "output_type": "execute_result",
          "data": {
            "text/plain": [
              "  support_tick_id                                support_ticket_text  \\\n",
              "0      ST2023-006  My internet connection has significantly slowe...   \n",
              "1      ST2023-007  Urgent help required! My laptop refuses to sta...   \n",
              "2      ST2023-008  My external hard drive isn't being recognized,...   \n",
              "3      ST2023-009  My smartphone battery is draining rapidly, eve...   \n",
              "4      ST2023-010  I'm locked out of my online banking account an...   \n",
              "\n",
              "                Category               Priority                       ETA  \\\n",
              "0          Network Issue      Priority 3 (High)             Within a Week   \n",
              "1         Hardware Issue      Priority 3 (High)  Immediate (Within Hours)   \n",
              "2    Data Recovery Issue      Priority 3 (High)  Immediate (Within Hours)   \n",
              "3         Hardware Issue  Priority 2 (Moderate)  Moderate (Within a Week)   \n",
              "4  Data Protection Issue    Priority 5 (Urgent)  Immediate (Within Hours)   \n",
              "\n",
              "                                            Response  \n",
              "0  Dear Customer,\\n\\nThank you for reaching out a...  \n",
              "1  Dear Customer,\\n\\nWe understand the urgency of...  \n",
              "2  Dear Customer,\\n\\nWe understand the importance...  \n",
              "3  Dear Customer,\\n\\nThank you for reaching out a...  \n",
              "4  Dear Customer,\\n\\nWe recognize the critical na...  "
            ],
            "text/html": [
              "\n",
              "  <div id=\"df-90da2851-4816-4a86-9cd2-d80cbe20cc5c\" class=\"colab-df-container\">\n",
              "    <div>\n",
              "<style scoped>\n",
              "    .dataframe tbody tr th:only-of-type {\n",
              "        vertical-align: middle;\n",
              "    }\n",
              "\n",
              "    .dataframe tbody tr th {\n",
              "        vertical-align: top;\n",
              "    }\n",
              "\n",
              "    .dataframe thead th {\n",
              "        text-align: right;\n",
              "    }\n",
              "</style>\n",
              "<table border=\"1\" class=\"dataframe\">\n",
              "  <thead>\n",
              "    <tr style=\"text-align: right;\">\n",
              "      <th></th>\n",
              "      <th>support_tick_id</th>\n",
              "      <th>support_ticket_text</th>\n",
              "      <th>Category</th>\n",
              "      <th>Priority</th>\n",
              "      <th>ETA</th>\n",
              "      <th>Response</th>\n",
              "    </tr>\n",
              "  </thead>\n",
              "  <tbody>\n",
              "    <tr>\n",
              "      <th>0</th>\n",
              "      <td>ST2023-006</td>\n",
              "      <td>My internet connection has significantly slowe...</td>\n",
              "      <td>Network Issue</td>\n",
              "      <td>Priority 3 (High)</td>\n",
              "      <td>Within a Week</td>\n",
              "      <td>Dear Customer,\\n\\nThank you for reaching out a...</td>\n",
              "    </tr>\n",
              "    <tr>\n",
              "      <th>1</th>\n",
              "      <td>ST2023-007</td>\n",
              "      <td>Urgent help required! My laptop refuses to sta...</td>\n",
              "      <td>Hardware Issue</td>\n",
              "      <td>Priority 3 (High)</td>\n",
              "      <td>Immediate (Within Hours)</td>\n",
              "      <td>Dear Customer,\\n\\nWe understand the urgency of...</td>\n",
              "    </tr>\n",
              "    <tr>\n",
              "      <th>2</th>\n",
              "      <td>ST2023-008</td>\n",
              "      <td>My external hard drive isn't being recognized,...</td>\n",
              "      <td>Data Recovery Issue</td>\n",
              "      <td>Priority 3 (High)</td>\n",
              "      <td>Immediate (Within Hours)</td>\n",
              "      <td>Dear Customer,\\n\\nWe understand the importance...</td>\n",
              "    </tr>\n",
              "    <tr>\n",
              "      <th>3</th>\n",
              "      <td>ST2023-009</td>\n",
              "      <td>My smartphone battery is draining rapidly, eve...</td>\n",
              "      <td>Hardware Issue</td>\n",
              "      <td>Priority 2 (Moderate)</td>\n",
              "      <td>Moderate (Within a Week)</td>\n",
              "      <td>Dear Customer,\\n\\nThank you for reaching out a...</td>\n",
              "    </tr>\n",
              "    <tr>\n",
              "      <th>4</th>\n",
              "      <td>ST2023-010</td>\n",
              "      <td>I'm locked out of my online banking account an...</td>\n",
              "      <td>Data Protection Issue</td>\n",
              "      <td>Priority 5 (Urgent)</td>\n",
              "      <td>Immediate (Within Hours)</td>\n",
              "      <td>Dear Customer,\\n\\nWe recognize the critical na...</td>\n",
              "    </tr>\n",
              "  </tbody>\n",
              "</table>\n",
              "</div>\n",
              "    <div class=\"colab-df-buttons\">\n",
              "\n",
              "  <div class=\"colab-df-container\">\n",
              "    <button class=\"colab-df-convert\" onclick=\"convertToInteractive('df-90da2851-4816-4a86-9cd2-d80cbe20cc5c')\"\n",
              "            title=\"Convert this dataframe to an interactive table.\"\n",
              "            style=\"display:none;\">\n",
              "\n",
              "  <svg xmlns=\"http://www.w3.org/2000/svg\" height=\"24px\" viewBox=\"0 -960 960 960\">\n",
              "    <path d=\"M120-120v-720h720v720H120Zm60-500h600v-160H180v160Zm220 220h160v-160H400v160Zm0 220h160v-160H400v160ZM180-400h160v-160H180v160Zm440 0h160v-160H620v160ZM180-180h160v-160H180v160Zm440 0h160v-160H620v160Z\"/>\n",
              "  </svg>\n",
              "    </button>\n",
              "\n",
              "  <style>\n",
              "    .colab-df-container {\n",
              "      display:flex;\n",
              "      gap: 12px;\n",
              "    }\n",
              "\n",
              "    .colab-df-convert {\n",
              "      background-color: #E8F0FE;\n",
              "      border: none;\n",
              "      border-radius: 50%;\n",
              "      cursor: pointer;\n",
              "      display: none;\n",
              "      fill: #1967D2;\n",
              "      height: 32px;\n",
              "      padding: 0 0 0 0;\n",
              "      width: 32px;\n",
              "    }\n",
              "\n",
              "    .colab-df-convert:hover {\n",
              "      background-color: #E2EBFA;\n",
              "      box-shadow: 0px 1px 2px rgba(60, 64, 67, 0.3), 0px 1px 3px 1px rgba(60, 64, 67, 0.15);\n",
              "      fill: #174EA6;\n",
              "    }\n",
              "\n",
              "    .colab-df-buttons div {\n",
              "      margin-bottom: 4px;\n",
              "    }\n",
              "\n",
              "    [theme=dark] .colab-df-convert {\n",
              "      background-color: #3B4455;\n",
              "      fill: #D2E3FC;\n",
              "    }\n",
              "\n",
              "    [theme=dark] .colab-df-convert:hover {\n",
              "      background-color: #434B5C;\n",
              "      box-shadow: 0px 1px 3px 1px rgba(0, 0, 0, 0.15);\n",
              "      filter: drop-shadow(0px 1px 2px rgba(0, 0, 0, 0.3));\n",
              "      fill: #FFFFFF;\n",
              "    }\n",
              "  </style>\n",
              "\n",
              "    <script>\n",
              "      const buttonEl =\n",
              "        document.querySelector('#df-90da2851-4816-4a86-9cd2-d80cbe20cc5c button.colab-df-convert');\n",
              "      buttonEl.style.display =\n",
              "        google.colab.kernel.accessAllowed ? 'block' : 'none';\n",
              "\n",
              "      async function convertToInteractive(key) {\n",
              "        const element = document.querySelector('#df-90da2851-4816-4a86-9cd2-d80cbe20cc5c');\n",
              "        const dataTable =\n",
              "          await google.colab.kernel.invokeFunction('convertToInteractive',\n",
              "                                                    [key], {});\n",
              "        if (!dataTable) return;\n",
              "\n",
              "        const docLinkHtml = 'Like what you see? Visit the ' +\n",
              "          '<a target=\"_blank\" href=https://colab.research.google.com/notebooks/data_table.ipynb>data table notebook</a>'\n",
              "          + ' to learn more about interactive tables.';\n",
              "        element.innerHTML = '';\n",
              "        dataTable['output_type'] = 'display_data';\n",
              "        await google.colab.output.renderOutput(dataTable, element);\n",
              "        const docLink = document.createElement('div');\n",
              "        docLink.innerHTML = docLinkHtml;\n",
              "        element.appendChild(docLink);\n",
              "      }\n",
              "    </script>\n",
              "  </div>\n",
              "\n",
              "\n",
              "<div id=\"df-fc1528a1-26d8-4a41-a533-7fbf7f6dcc5f\">\n",
              "  <button class=\"colab-df-quickchart\" onclick=\"quickchart('df-fc1528a1-26d8-4a41-a533-7fbf7f6dcc5f')\"\n",
              "            title=\"Suggest charts\"\n",
              "            style=\"display:none;\">\n",
              "\n",
              "<svg xmlns=\"http://www.w3.org/2000/svg\" height=\"24px\"viewBox=\"0 0 24 24\"\n",
              "     width=\"24px\">\n",
              "    <g>\n",
              "        <path d=\"M19 3H5c-1.1 0-2 .9-2 2v14c0 1.1.9 2 2 2h14c1.1 0 2-.9 2-2V5c0-1.1-.9-2-2-2zM9 17H7v-7h2v7zm4 0h-2V7h2v10zm4 0h-2v-4h2v4z\"/>\n",
              "    </g>\n",
              "</svg>\n",
              "  </button>\n",
              "\n",
              "<style>\n",
              "  .colab-df-quickchart {\n",
              "      --bg-color: #E8F0FE;\n",
              "      --fill-color: #1967D2;\n",
              "      --hover-bg-color: #E2EBFA;\n",
              "      --hover-fill-color: #174EA6;\n",
              "      --disabled-fill-color: #AAA;\n",
              "      --disabled-bg-color: #DDD;\n",
              "  }\n",
              "\n",
              "  [theme=dark] .colab-df-quickchart {\n",
              "      --bg-color: #3B4455;\n",
              "      --fill-color: #D2E3FC;\n",
              "      --hover-bg-color: #434B5C;\n",
              "      --hover-fill-color: #FFFFFF;\n",
              "      --disabled-bg-color: #3B4455;\n",
              "      --disabled-fill-color: #666;\n",
              "  }\n",
              "\n",
              "  .colab-df-quickchart {\n",
              "    background-color: var(--bg-color);\n",
              "    border: none;\n",
              "    border-radius: 50%;\n",
              "    cursor: pointer;\n",
              "    display: none;\n",
              "    fill: var(--fill-color);\n",
              "    height: 32px;\n",
              "    padding: 0;\n",
              "    width: 32px;\n",
              "  }\n",
              "\n",
              "  .colab-df-quickchart:hover {\n",
              "    background-color: var(--hover-bg-color);\n",
              "    box-shadow: 0 1px 2px rgba(60, 64, 67, 0.3), 0 1px 3px 1px rgba(60, 64, 67, 0.15);\n",
              "    fill: var(--button-hover-fill-color);\n",
              "  }\n",
              "\n",
              "  .colab-df-quickchart-complete:disabled,\n",
              "  .colab-df-quickchart-complete:disabled:hover {\n",
              "    background-color: var(--disabled-bg-color);\n",
              "    fill: var(--disabled-fill-color);\n",
              "    box-shadow: none;\n",
              "  }\n",
              "\n",
              "  .colab-df-spinner {\n",
              "    border: 2px solid var(--fill-color);\n",
              "    border-color: transparent;\n",
              "    border-bottom-color: var(--fill-color);\n",
              "    animation:\n",
              "      spin 1s steps(1) infinite;\n",
              "  }\n",
              "\n",
              "  @keyframes spin {\n",
              "    0% {\n",
              "      border-color: transparent;\n",
              "      border-bottom-color: var(--fill-color);\n",
              "      border-left-color: var(--fill-color);\n",
              "    }\n",
              "    20% {\n",
              "      border-color: transparent;\n",
              "      border-left-color: var(--fill-color);\n",
              "      border-top-color: var(--fill-color);\n",
              "    }\n",
              "    30% {\n",
              "      border-color: transparent;\n",
              "      border-left-color: var(--fill-color);\n",
              "      border-top-color: var(--fill-color);\n",
              "      border-right-color: var(--fill-color);\n",
              "    }\n",
              "    40% {\n",
              "      border-color: transparent;\n",
              "      border-right-color: var(--fill-color);\n",
              "      border-top-color: var(--fill-color);\n",
              "    }\n",
              "    60% {\n",
              "      border-color: transparent;\n",
              "      border-right-color: var(--fill-color);\n",
              "    }\n",
              "    80% {\n",
              "      border-color: transparent;\n",
              "      border-right-color: var(--fill-color);\n",
              "      border-bottom-color: var(--fill-color);\n",
              "    }\n",
              "    90% {\n",
              "      border-color: transparent;\n",
              "      border-bottom-color: var(--fill-color);\n",
              "    }\n",
              "  }\n",
              "</style>\n",
              "\n",
              "  <script>\n",
              "    async function quickchart(key) {\n",
              "      const quickchartButtonEl =\n",
              "        document.querySelector('#' + key + ' button');\n",
              "      quickchartButtonEl.disabled = true;  // To prevent multiple clicks.\n",
              "      quickchartButtonEl.classList.add('colab-df-spinner');\n",
              "      try {\n",
              "        const charts = await google.colab.kernel.invokeFunction(\n",
              "            'suggestCharts', [key], {});\n",
              "      } catch (error) {\n",
              "        console.error('Error during call to suggestCharts:', error);\n",
              "      }\n",
              "      quickchartButtonEl.classList.remove('colab-df-spinner');\n",
              "      quickchartButtonEl.classList.add('colab-df-quickchart-complete');\n",
              "    }\n",
              "    (() => {\n",
              "      let quickchartButtonEl =\n",
              "        document.querySelector('#df-fc1528a1-26d8-4a41-a533-7fbf7f6dcc5f button');\n",
              "      quickchartButtonEl.style.display =\n",
              "        google.colab.kernel.accessAllowed ? 'block' : 'none';\n",
              "    })();\n",
              "  </script>\n",
              "</div>\n",
              "\n",
              "    </div>\n",
              "  </div>\n"
            ],
            "application/vnd.google.colaboratory.intrinsic+json": {
              "type": "dataframe",
              "variable_name": "data1",
              "summary": "{\n  \"name\": \"data1\",\n  \"rows\": 20,\n  \"fields\": [\n    {\n      \"column\": \"support_tick_id\",\n      \"properties\": {\n        \"dtype\": \"string\",\n        \"num_unique_values\": 20,\n        \"samples\": [\n          \"ST2023-006\",\n          \"ST2023-024\",\n          \"ST2023-022\"\n        ],\n        \"semantic_type\": \"\",\n        \"description\": \"\"\n      }\n    },\n    {\n      \"column\": \"support_ticket_text\",\n      \"properties\": {\n        \"dtype\": \"string\",\n        \"num_unique_values\": 20,\n        \"samples\": [\n          \"My internet connection has significantly slowed down over the past two days, making it challenging to work efficiently from home. Frequent disconnections are causing major disruptions. Please assist in resolving this connectivity issue promptly.\",\n          \"Despite being in close proximity to my Wi-Fi router, the signal remains persistently weak in my home. This issue has been ongoing, and I need assistance troubleshooting it. Please help me resolve the weak Wi-Fi signal problem.\",\n          \"Wi-Fi is inconsistent despite proximity to the router. This is affecting my work. Help needed.\"\n        ],\n        \"semantic_type\": \"\",\n        \"description\": \"\"\n      }\n    },\n    {\n      \"column\": \"Category\",\n      \"properties\": {\n        \"dtype\": \"category\",\n        \"num_unique_values\": 6,\n        \"samples\": [\n          \"Network Issue\",\n          \"Hardware Issue\",\n          \"Category: Software Issues\"\n        ],\n        \"semantic_type\": \"\",\n        \"description\": \"\"\n      }\n    },\n    {\n      \"column\": \"Priority\",\n      \"properties\": {\n        \"dtype\": \"category\",\n        \"num_unique_values\": 3,\n        \"samples\": [\n          \"Priority 3 (High)\",\n          \"Priority 2 (Moderate)\",\n          \"Priority 5 (Urgent)\"\n        ],\n        \"semantic_type\": \"\",\n        \"description\": \"\"\n      }\n    },\n    {\n      \"column\": \"ETA\",\n      \"properties\": {\n        \"dtype\": \"category\",\n        \"num_unique_values\": 5,\n        \"samples\": [\n          \"Immediate (Within Hours)\",\n          \"Based on the complexity and severity of the reported issues, the ETA for resolution would be within 3-5 business days.\",\n          \"Moderate (Within a Week)\"\n        ],\n        \"semantic_type\": \"\",\n        \"description\": \"\"\n      }\n    },\n    {\n      \"column\": \"Response\",\n      \"properties\": {\n        \"dtype\": \"string\",\n        \"num_unique_values\": 20,\n        \"samples\": [\n          \"Dear Customer,\\n\\nThank you for reaching out about the connectivity issue you are experiencing. We understand the importance of a stable internet connection, especially when working from home. Our team will prioritize this matter and work towards resolving it promptly to minimize any disruptions to your work. We will keep you updated on our progress and aim to have this issue resolved as soon as possible.\\n\\nBest regards,\\n[Your Name]\\nIT Support Engineer\",\n          \"Dear Customer,\\n\\nThank you for reaching out to us regarding the persistently weak Wi-Fi signal issue you are experiencing despite being in close proximity to your router. We understand the importance of a stable internet connection and will prioritize resolving this issue for you. Our team will work on troubleshooting the problem to improve your Wi-Fi signal strength. We will keep you updated on our progress and aim to have this resolved by [ETA]. Your patience is greatly appreciated as we work to minimize any disruption to your connectivity.\\n\\nBest regards,\\n[Your Name]\\nIT Support Engineer\\n\\nWe will escalate your ticket to our support agents\",\n          \"Dear Customer,\\n\\nThank you for bringing the Wi-Fi inconsistency issue to our attention. We understand how crucial a stable internet connection is for your work. Our team will prioritize this matter and work towards resolving it promptly. We aim to provide you with an update on the progress by [ETA]. Your patience is greatly appreciated as we strive to minimize any disruption to your workflow.\\n\\nBest regards,\\n[Your Name]\\nIT Support Engineer\"\n        ],\n        \"semantic_type\": \"\",\n        \"description\": \"\"\n      }\n    }\n  ]\n}"
            }
          },
          "metadata": {},
          "execution_count": 157
        }
      ]
    },
    {
      "cell_type": "markdown",
      "source": [
        "##Ticket Analytics"
      ],
      "metadata": {
        "id": "OFsh27QTzInP"
      }
    },
    {
      "cell_type": "code",
      "source": [
        "# Calculate percentage for each category\n",
        "total_count = len(data1['Priority'])\n",
        "counts = data1['Priority'].value_counts()\n",
        "percentages = counts / total_count * 100\n",
        "\n",
        "# Create the countplot\n",
        "ax = sns.countplot(data=data1, x='Priority')\n",
        "ax.set_title('Ticket Priority Distribution')\n",
        "\n",
        "# Add annotations with percentages\n",
        "for i, p in enumerate(ax.patches):\n",
        "    percentage = f'{percentages[i]:.2f}%'\n",
        "    ax.annotate(percentage, (p.get_x() + p.get_width() / 2., p.get_height()), ha='center', va='center', xytext=(0, 5), textcoords='offset points')"
      ],
      "metadata": {
        "colab": {
          "base_uri": "https://localhost:8080/",
          "height": 472
        },
        "id": "GTpdsVRizLw1",
        "outputId": "c5a7f449-0ad5-41ed-cfb4-5d90d442e71f"
      },
      "execution_count": null,
      "outputs": [
        {
          "output_type": "display_data",
          "data": {
            "text/plain": [
              "<Figure size 640x480 with 1 Axes>"
            ],
            "image/png": "[encoded data removed]"
          },
          "metadata": {}
        }
      ]
    },
    {
      "cell_type": "code",
      "source": [
        "# Create the countplot with y-axis as 'Category'\n",
        "ax = sns.countplot(data=data1, y='Category')\n",
        "ax.set_title('Ticket Distribution by Category')\n",
        "\n",
        "# Rotate y-axis labels by 90 degrees\n",
        "plt.xticks(rotation=90)\n",
        "\n",
        "# Show plot\n",
        "plt.show()"
      ],
      "metadata": {
        "colab": {
          "base_uri": "https://localhost:8080/",
          "height": 467
        },
        "id": "pyNAjAG-zb5v",
        "outputId": "69d12291-6522-4252-85a8-e01ca767fe7c"
      },
      "execution_count": null,
      "outputs": [
        {
          "output_type": "display_data",
          "data": {
            "text/plain": [
              "<Figure size 640x480 with 1 Axes>"
            ],
            "image/png": "[encoded data removed]"
          },
          "metadata": {}
        }
      ]
    },
    {
      "cell_type": "code",
      "source": [
        "total_count = len(data1['ETA'])\n",
        "counts = data1['ETA'].value_counts()\n",
        "percentages = counts / total_count * 100\n",
        "\n",
        "# Create the countplot with y-axis as 'Category'\n",
        "ax = sns.countplot(data=data1, y='ETA')\n",
        "ax.set_title('Ticket Distribution by ETA')\n",
        "\n",
        "# Rotate y-axis labels by 90 degrees\n",
        "plt.xticks(rotation=90)\n",
        "\n",
        "# Show plot\n",
        "plt.show()"
      ],
      "metadata": {
        "colab": {
          "base_uri": "https://localhost:8080/",
          "height": 475
        },
        "id": "n21mOIAN4_iJ",
        "outputId": "f418a40b-7eea-41bb-b217-5d038dbcf760"
      },
      "execution_count": null,
      "outputs": [
        {
          "output_type": "display_data",
          "data": {
            "text/plain": [
              "<Figure size 640x480 with 1 Axes>"
            ],
            "image/png": "[encoded data removed]"
          },
          "metadata": {}
        }
      ]
    },
    {
      "cell_type": "code",
      "source": [],
      "metadata": {
        "id": "mlqD7B6fucPF"
      },
      "execution_count": null,
      "outputs": []
    }
  ],
  "metadata": {
    "kernelspec": {
      "display_name": "Python 3",
      "name": "python3"
    },
    "language_info": {
      "codemirror_mode": {
        "name": "ipython",
        "version": 3
      },
      "file_extension": ".py",
      "mimetype": "text/x-python",
      "name": "python",
      "nbconvert_exporter": "python",
      "pygments_lexer": "ipython3",
      "version": "3.10.0"
    },
    "colab": {
      "provenance": [],
      "gpuType": "T4",
      "include_colab_link": true
    },
    "accelerator": "GPU"
  },
  "nbformat": 4,
  "nbformat_minor": 0
}